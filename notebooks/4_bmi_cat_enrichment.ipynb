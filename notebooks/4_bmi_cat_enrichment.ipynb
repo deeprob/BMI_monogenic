{
 "cells": [
  {
   "cell_type": "code",
   "execution_count": 1,
   "metadata": {},
   "outputs": [],
   "source": [
    "import os\n",
    "import pandas as pd\n",
    "import numpy as np\n",
    "\n",
    "import seaborn as sns\n",
    "import matplotlib\n",
    "import matplotlib.pyplot as plt\n",
    "from matplotlib.ticker import MultipleLocator\n",
    "import matplotlib.patches as mpatches\n",
    "matplotlib.rcParams['pdf.fonttype'] = 42\n",
    "matplotlib.rcParams['ps.fonttype'] = 42\n",
    "matplotlib.rcParams['font.sans-serif'] = \"Arial\" # missing fonts:: https://alexanderlabwhoi.github.io/post/2021-03-missingfont/\n",
    "# Then, \"ALWAYS use sans-serif fonts\"\n",
    "matplotlib.rcParams['font.family'] = \"sans-serif\"\n",
    "matplotlib.rcParams.update({'font.size': 7, 'axes.linewidth': 1, 'xtick.major.width': 1, 'xtick.major.size': 5, 'ytick.major.width': 1, 'ytick.major.size': 5})\n",
    "from matplotlib.backends.backend_pdf import PdfPages\n",
    "\n",
    "import matplotlib.gridspec as gridspec"
   ]
  },
  {
   "cell_type": "code",
   "execution_count": 2,
   "metadata": {},
   "outputs": [],
   "source": [
    "def get_most_deleterious_idx(ser):\n",
    "    all_masks = set(ser.unique())\n",
    "    most_del = \"Missense_lenient\"\n",
    "    if \"pLoF\" in all_masks:\n",
    "        most_del = \"pLoF\"\n",
    "    elif \"Missense_strict\" in all_masks:\n",
    "        most_del = \"Missense_strict\"\n",
    "    most_del_idx = ser.loc[ser==most_del].index[0]\n",
    "    return most_del_idx\n",
    "\n",
    "def get_meta_df(aou_file, ukb_file, most_del_sig_meta_df):\n",
    "    aou_df = pd.read_csv(aou_file, index_col=[0, 1])\n",
    "    ukb_df = pd.read_csv(ukb_file, index_col=[0, 1])\n",
    "    meta_df = aou_df+ukb_df\n",
    "    meta_df = meta_df.reset_index()\n",
    "    meta_df = meta_df.rename(columns={\"mask\": \"gene_mask\"})\n",
    "    meta_df = most_del_sig_meta_df.loc[:, [\"gene\", \"gene_mask\"]].merge(meta_df, on=[\"gene\", \"gene_mask\"])\n",
    "    return meta_df\n"
   ]
  },
  {
   "cell_type": "code",
   "execution_count": null,
   "metadata": {},
   "outputs": [],
   "source": [
    "PROJECT_DIR = \"/Users/deeprobanerjee/Documents/bmi_project/BMI_monogenic\"\n",
    "\n",
    "# keep most deleterious mask for sig genes\n",
    "filename = os.path.join(PROJECT_DIR, \"data/meta/results/all_ancestry/ivw_fixed/bmi_rint_monogenic_meta.tsv\")\n",
    "sig_meta_res_df = pd.read_csv(filename, sep=\"\\t\")\n",
    "most_del_sig_meta_df = sig_meta_res_df.loc[sig_meta_res_df.groupby(\"gene\")[\"gene_mask\"].apply(get_most_deleterious_idx)].sort_values(\"beta\", ascending=False).reset_index(drop=True)\n",
    "\n",
    "# read previously calculated odds ratio file and keep most del masks\n",
    "filename = os.path.join(PROJECT_DIR, \"data/enrichment/bmi_cat/monogenic_enrich_bmi_cat.csv\")\n",
    "bmi_cat_df = pd.read_csv(filename)\n",
    "bmi_cat_df = most_del_sig_meta_df.loc[:, [\"gene\", \"gene_mask\"]].merge(bmi_cat_df, on=[\"gene\", \"gene_mask\"])\n",
    "\n",
    "# read the meta file with number of individuals per gene stratified by obesity cat\n",
    "analysis = \"bmi_cat\"\n",
    "aou_file = os.path.join(PROJECT_DIR, f\"data/enrichment/{analysis}/monogenic_aou_{analysis}.csv.gz\")\n",
    "ukb_file = os.path.join(PROJECT_DIR, f\"data/enrichment/{analysis}/monogenic_ukb_{analysis}.csv.gz\")\n",
    "thresh_meta_df = get_meta_df(aou_file, ukb_file, most_del_sig_meta_df)\n",
    "# change it to long format\n",
    "thresh_meta_long_df = thresh_meta_df.melt(id_vars=[\"gene\", \"gene_mask\"],  value_vars=[\"gene_nu\", \"gene_ovw\", \"gene_ob\", \"gene_sob\"], var_name=\"category\", value_name=\"nsamples\")\n",
    "thresh_meta_long_df[\"category\"] = thresh_meta_long_df.category.map({\"gene_nu\": \"underweight_normal\", \"gene_ovw\": \"overweight\", \"gene_ob\": \"obese\", \"gene_sob\": \"severely_obese\"})\n",
    "# calculate percentage of samples per category for each gene\n",
    "total_samples_per_gene = thresh_meta_long_df.groupby(\"gene\")[\"nsamples\"].transform(\"sum\")\n",
    "thresh_meta_long_df[\"percent\"] = thresh_meta_long_df[\"nsamples\"].div(total_samples_per_gene)*100\n",
    "\n",
    "# create dictionary with percentage for each gene - make sure genes are sorted based on their p values before\n",
    "genes = most_del_sig_meta_df.gene.unique()\n",
    "cwc = dict()\n",
    "\n",
    "bmi_categories = [\"underweight_normal\", \"overweight\", \"obese\", \"severely_obese\"]\n",
    "\n",
    "for cat in bmi_categories:\n",
    "    cwc[cat] = thresh_meta_long_df.loc[thresh_meta_long_df.category==cat, \"percent\"].values\n",
    "\n",
    "bmi_cat_df[\"comorbidity\"] = bmi_cat_df.comorbidity.map({\n",
    "    \"nu\": \"underweight_normal\", \"ovw\": \"overweight\", \"ob\": \"obese\", \"sob\": \"severely_obese\"\n",
    "    })"
   ]
  },
  {
   "cell_type": "code",
   "execution_count": 4,
   "metadata": {},
   "outputs": [
    {
     "data": {
      "image/png": "[encoded data removed]",
      "text/plain": [
       "<Figure size 500x350 with 2 Axes>"
      ]
     },
     "metadata": {},
     "output_type": "display_data"
    }
   ],
   "source": [
    "width = 0.65\n",
    "\n",
    "fig = plt.figure(figsize=(5, 3.5)) #, (ax1, ax2) = plt.subplots(2,1, figsize=(4, 6), height_ratios=(3, 3), sharex=True)\n",
    "\n",
    "gs = gridspec.GridSpec(2, 1, height_ratios=[1, 1.5])\n",
    "\n",
    "# Create the bar plots\n",
    "ax1 = fig.add_subplot(gs[0])\n",
    "# ax2 = fig.add_subplot(gs[1])\n",
    "\n",
    "colors = [\"skyblue\", \"gold\", \"darkorange\", \"red\"] #sns.color_palette(\"tab20\", 5)\n",
    "positions1 = [i for i in range(len(genes))]\n",
    "bottom = np.zeros(len(genes))\n",
    "for bmi_cat,col in zip(bmi_categories, colors):\n",
    "    weight_count = cwc[bmi_cat]\n",
    "    p = ax1.bar(positions1, weight_count, width, label=bmi_cat, bottom=bottom, color=col, edgecolor=\"k\")\n",
    "    bottom += weight_count\n",
    "\n",
    "# Add a table at the bottom of the Axes\n",
    "\n",
    "cell_text = []\n",
    "cell_colors = []\n",
    "    \n",
    "for obese_spec, color in zip(bmi_categories[::-1], colors[::-1]):\n",
    "    OR = []\n",
    "    for gene in list(genes):\n",
    "        orr = bmi_cat_df.loc[(bmi_cat_df.gene==gene)&(bmi_cat_df.comorbidity==obese_spec), \"OR\"].values[0]\n",
    "        pval = bmi_cat_df.loc[(bmi_cat_df.gene==gene)&(bmi_cat_df.comorbidity==obese_spec), \"p_value\"].values[0]\n",
    "        starp=\"\"\n",
    "        if pval<0.05/(len(genes)*len(bmi_categories)):\n",
    "            starp=\"*\"\n",
    "        OR.append(str(round(orr, 2))+starp)\n",
    "    cell_text.append(OR)\n",
    "    cell_colors.append([color for _ in range(len(list(genes)))])\n",
    "\n",
    "ax_table = fig.add_subplot(gs[1])\n",
    "ax_table.axis('off')\n",
    "the_table = ax_table.table(cellText=cell_text,\n",
    "                           cellColours=cell_colors,\n",
    "                        #    rowLabels=[\"overweight\", \"obese\", \"severely obese\"],\n",
    "                        #    rowColours=colors[2:],\n",
    "                        #    colLabels=[f\"{i}\" for i in range(1, 11)],\n",
    "                           loc='center', cellLoc=\"right\", rowLoc=\"center\")\n",
    "\n",
    "\n",
    "# Adjust the table's positioning\n",
    "# the_table.auto_set_font_size(False)\n",
    "the_table.set_fontsize(6)\n",
    "the_table.scale(1, 1.15)  # Adjust the scale to fit the plot\n",
    "\n",
    "ax1.legend(loc=(1, 0.25), ncol=1, frameon=False)\n",
    "ax1.spines['right'].set_visible(False)\n",
    "ax1.spines['top'].set_visible(False)\n",
    "\n",
    "ax1.set_xticks(positions1, genes, fontsize=7, fontstyle=\"italic\", rotation=90)\n",
    "ax1.set_xlim(-1, len(genes)+1)\n",
    "\n",
    "ax1.set_ylim(-2, 101)\n",
    "ax1.spines['bottom'].set_bounds(ax1.get_xticks()[0], ax1.get_xticks()[-1])\n",
    "ax1.spines['left'].set_bounds(0, 100);\n",
    "\n",
    "plt.subplots_adjust(left=0.2, bottom=0.05)\n",
    "\n",
    "# Add connecting lines\n"
   ]
  },
  {
   "cell_type": "code",
   "execution_count": 5,
   "metadata": {},
   "outputs": [],
   "source": [
    "def save_pdf(save_file, fig):\n",
    "    os.makedirs(os.path.dirname(save_file), exist_ok=True)\n",
    "    pdf = PdfPages(save_file)\n",
    "    pdf.savefig(fig, bbox_inches='tight',dpi=300)\n",
    "    pdf.close()\n",
    "    return"
   ]
  },
  {
   "cell_type": "code",
   "execution_count": 6,
   "metadata": {},
   "outputs": [],
   "source": [
    "filename = os.path.join(PROJECT_DIR, \"data/enrichment/bmi_cat/obesity_cat.pdf\")\n",
    "save_pdf(filename, fig)\n"
   ]
  },
  {
   "cell_type": "code",
   "execution_count": null,
   "metadata": {},
   "outputs": [],
   "source": []
  }
 ],
 "metadata": {
  "kernelspec": {
   "display_name": "analysis",
   "language": "python",
   "name": "python3"
  },
  "language_info": {
   "codemirror_mode": {
    "name": "ipython",
    "version": 3
   },
   "file_extension": ".py",
   "mimetype": "text/x-python",
   "name": "python",
   "nbconvert_exporter": "python",
   "pygments_lexer": "ipython3",
   "version": "3.10.12"
  }
 },
 "nbformat": 4,
 "nbformat_minor": 2
}
