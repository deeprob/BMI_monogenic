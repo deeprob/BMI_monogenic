{
 "cells": [
  {
   "cell_type": "code",
   "execution_count": 1,
   "metadata": {},
   "outputs": [],
   "source": [
    "import os\n",
    "import re\n",
    "import pandas as pd\n",
    "import numpy as np\n",
    "import requests\n",
    "import time\n",
    "import json\n",
    "\n",
    "import seaborn as sns\n",
    "import matplotlib\n",
    "import matplotlib.pyplot as plt\n",
    "from matplotlib.ticker import MultipleLocator\n",
    "import matplotlib.patches as mpatches\n",
    "matplotlib.rcParams['pdf.fonttype'] = 42\n",
    "matplotlib.rcParams['ps.fonttype'] = 42\n",
    "matplotlib.rcParams['font.sans-serif'] = \"Arial\" # missing fonts:: https://alexanderlabwhoi.github.io/post/2021-03-missingfont/\n",
    "# Then, \"ALWAYS use sans-serif fonts\"\n",
    "matplotlib.rcParams['font.family'] = \"sans-serif\"\n",
    "matplotlib.rcParams.update({'font.size': 7, 'axes.linewidth': 1, 'xtick.major.width': 1, 'xtick.major.size': 5, 'ytick.major.width': 1, 'ytick.major.size': 5})\n",
    "from matplotlib.backends.backend_pdf import PdfPages"
   ]
  },
  {
   "cell_type": "code",
   "execution_count": 2,
   "metadata": {},
   "outputs": [],
   "source": [
    "\n",
    "\n",
    "def get_protein_symbols(gene_symbol):\n",
    "    time.sleep(2)\n",
    "    base_url = \"https://rest.uniprot.org/uniprotkb/search\"\n",
    "    query = f\"organism_name:'homo sapiens' AND gene_exact:{gene_symbol}\" #OR \".join([f\"gene_exact:{symbol}\" for symbol in gene_symbols])\n",
    "    \n",
    "    params = {\n",
    "        \"query\": query,\n",
    "        \"fields\": \"accession,id,protein_name,gene_primary\",\n",
    "        \"format\": \"tsv\",\n",
    "    }\n",
    "    \n",
    "    response = requests.get(base_url, params=params)\n",
    "    \n",
    "    if response.status_code == 200:\n",
    "        # Parse the result\n",
    "        data = response.text\n",
    "        protein_data = {}\n",
    "        lines = data.splitlines()[1:]  # Skip the header line\n",
    "        # the first n lines contains the best hits\n",
    "        uniprot_id, protein_symbol,protein_name,gene_symbol = lines[0].split(\"\\t\")\n",
    "        return protein_symbol.replace(\"_HUMAN\", \"\")\n",
    "    else:\n",
    "        print(f\"Error: {response.status_code} - {response.text}\")\n",
    "        return \"\"\n",
    "\n",
    "# Example usage\n",
    "gene_symbols = [\"BRCA1\", \"TP53\", \"EGFR\"]\n",
    "protein_symbols = get_protein_symbols(gene_symbols[0])\n"
   ]
  },
  {
   "cell_type": "code",
   "execution_count": 3,
   "metadata": {},
   "outputs": [],
   "source": [
    "sig_meta_res_df = pd.read_excel(\"../data/meta/monogenic_meta.xlsx\")"
   ]
  },
  {
   "cell_type": "code",
   "execution_count": 4,
   "metadata": {},
   "outputs": [],
   "source": [
    "def get_genes(ID):\n",
    "    pattern = re.compile(\"(.+)\\.(PTV.*)\\.0\\.001\")\n",
    "    m = re.match(pattern, ID)\n",
    "    if not m:\n",
    "        print(ID)\n",
    "    gene = m.group(1)\n",
    "    return gene\n",
    "\n",
    "sig_meta_res_df[\"gene\"] = sig_meta_res_df.ID.apply(get_genes)"
   ]
  },
  {
   "cell_type": "code",
   "execution_count": 5,
   "metadata": {},
   "outputs": [],
   "source": [
    "sig_genes = list(sig_meta_res_df.gene.unique())"
   ]
  },
  {
   "cell_type": "code",
   "execution_count": 6,
   "metadata": {},
   "outputs": [],
   "source": [
    "sig_proteins = {g:get_protein_symbols(g) for g in sig_genes}"
   ]
  },
  {
   "cell_type": "code",
   "execution_count": null,
   "metadata": {},
   "outputs": [],
   "source": []
  },
  {
   "cell_type": "code",
   "execution_count": 7,
   "metadata": {},
   "outputs": [],
   "source": [
    "# File path where the JSON will be saved\n",
    "output_file = \"../data/proteomics/gene_protein.json\"\n",
    "\n",
    "# Write the dictionary to a JSON file with indent 4\n",
    "with open(output_file, \"w\") as json_file:\n",
    "    json.dump(sig_proteins, json_file, indent=4)"
   ]
  },
  {
   "cell_type": "code",
   "execution_count": 31,
   "metadata": {},
   "outputs": [],
   "source": [
    "def create_forestplot(\n",
    "    df, studies,\n",
    "    labels_col, effect_sizes_col, ci_low_col, ci_high_col,\n",
    "    stats_cols\n",
    "):\n",
    "\n",
    "    # Create a figure with two axes\n",
    "    fig, (ax, ax2) = plt.subplots(1, 2, figsize=(3.5, 2), gridspec_kw={'width_ratios': [1.5, 2]},sharey=True)\n",
    "\n",
    "    # Horizontal line at 0 for the null effect\n",
    "    ax.axvline(x=0, color='grey', linestyle='--')\n",
    "    \n",
    "    df[\"ci_low_error\"] = df[effect_sizes_col] - df[ci_low_col]\n",
    "    df[\"ci_high_error\"] =  df[ci_high_col] - df[effect_sizes_col]\n",
    "    \n",
    "    ### main plot ###\n",
    "    # Plotting the effect sizes with different markers per category\n",
    "    last_offset = 0\n",
    "    for i, study in enumerate(df[labels_col].unique()):\n",
    "        effect_size = df.loc[(df[labels_col]==study), effect_sizes_col].values[0]\n",
    "        ci_low_error = df.loc[(df[labels_col]==study), \"ci_low_error\"].values[0]\n",
    "        ci_high_error = df.loc[(df[labels_col]==study), \"ci_high_error\"].values[0]\n",
    "        errors = np.array([ci_low_error, ci_high_error]).reshape(2, 1)\n",
    "        # Plot each category with a different marker\n",
    "        ax.errorbar(effect_size, i+last_offset*0.25, xerr=[[ci_low_error], [ci_high_error]], fmt=\"o\", color=\"k\", capsize=5)\n",
    "\n",
    "        # Place the study name above the group of categories\n",
    "        ax.text(min(df[ci_low_col])-2, i+last_offset, study, ha='center', va='center', fontweight='normal', style=\"italic\")\n",
    "\n",
    "        \n",
    "    ax.text(min(df[ci_low_col])-2, -1, \"Proteins\", ha='center', va='center', fontweight='normal')\n",
    "    \n",
    "    # Invert the y-axis so the studies are from top to bottom\n",
    "    ax.invert_yaxis()\n",
    "\n",
    "    # Customize the left axis: remove yticks but keep the ytick labels for study names\n",
    "    ax.set_yticks([])\n",
    "    ax.tick_params(axis='y', which='both', length=0) \n",
    "\n",
    "\n",
    "    # Labels for axes\n",
    "    ax.set_xlabel('Effect Size')\n",
    "    # ax.set_title('Forest Plot')\n",
    "    # Remove top, right, and left spines\n",
    "    ax.spines['top'].set_visible(False)\n",
    "    ax.spines['right'].set_visible(False)\n",
    "    ax.spines['left'].set_visible(False)\n",
    "\n",
    "    last_offset = 0\n",
    "\n",
    "    for i, study in enumerate(df[labels_col].unique()):\n",
    "        for s, st_col in enumerate(stats_cols):\n",
    "            stat = df.loc[(df[labels_col]==study), st_col].values[0]\n",
    "            ax2.text(0.1+0.5*s,i+last_offset*0.25, f\"{stat}\", va='center', ha=\"center\")\n",
    "            ax2.text(0.1+0.5*s, -1, f\"{st_col.lstrip('formatted_')}\", va='center', ha=\"center\")\n",
    "\n",
    "    # Remove the spines and ticks for ax2\n",
    "    ax2.set_yticks([])\n",
    "    ax2.set_xticks([])\n",
    "    ax2.spines['top'].set_visible(False)\n",
    "    ax2.spines['right'].set_visible(False)\n",
    "    ax2.spines['left'].set_visible(False)\n",
    "    ax2.spines['bottom'].set_visible(False)\n",
    "    # ax2.set_title('Statistics')\n",
    "\n",
    "    plt.tight_layout()\n",
    "    return fig\n"
   ]
  },
  {
   "cell_type": "code",
   "execution_count": 32,
   "metadata": {},
   "outputs": [],
   "source": [
    "protein_coef_df = pd.read_csv(\"../data/proteomics/protein_model_coefs.csv\")"
   ]
  },
  {
   "cell_type": "code",
   "execution_count": 33,
   "metadata": {},
   "outputs": [],
   "source": [
    "def p_value_formatter(pval):\n",
    "    if pval==0:\n",
    "        pval = \"0\"\n",
    "    else:\n",
    "        pval = f\"{pval:.2e}\"\n",
    "        pval = pval.replace(\"e\", \"x10\")\n",
    "        # base, exponent = pval.split(\"^\")\n",
    "        # pval = f\"{base}$^{{{exponent}}}$\"\n",
    "        # #pval = f\"{base}$^{exponent}$\"\n",
    "    return pval\n",
    "\n",
    "protein_coef_df[\"formatted_coef\"] = protein_coef_df.coef.apply(lambda x: f\"{x:.2f}\")\n",
    "protein_coef_df[\"formatted_ci\"] = \"(\" + protein_coef_df.ci_low.apply(lambda x: f\"{x:.2f}\") + \", \" + protein_coef_df.ci_high.apply(lambda x: f\"{x:.2f}\") + \")\"\n",
    "protein_coef_df[\"formatted_se\"] = protein_coef_df.se.apply(lambda x: f\"{x:.2f}\")\n",
    "protein_coef_df[\"formatted_t_stat\"] = protein_coef_df.t_stat.apply(lambda x: f\"{x:.2f}\")\n",
    "protein_coef_df[\"formatted_p_value\"] = protein_coef_df.p_value.apply(p_value_formatter)\n",
    "protein_coef_df[\"Beta (95% CI)\"] = protein_coef_df.apply(lambda ser: f\"{ser.formatted_coef} {ser.formatted_ci}\", axis=1)"
   ]
  },
  {
   "cell_type": "code",
   "execution_count": 34,
   "metadata": {},
   "outputs": [
    {
     "data": {
      "image/png": "[encoded data removed]",
      "text/plain": [
       "<Figure size 350x200 with 2 Axes>"
      ]
     },
     "metadata": {},
     "output_type": "display_data"
    }
   ],
   "source": [
    "f = create_forestplot(protein_coef_df, protein_coef_df.gene.unique(),\n",
    "    labels_col=\"gene\", effect_sizes_col=\"coef\", ci_low_col=\"ci_low\", ci_high_col=\"ci_high\",\n",
    "    stats_cols=[\"Beta (95% CI)\", \"formatted_p_value\"]\n",
    ")"
   ]
  },
  {
   "cell_type": "code",
   "execution_count": 35,
   "metadata": {},
   "outputs": [],
   "source": [
    "def save_pdf(save_file, fig):\n",
    "    os.makedirs(os.path.dirname(save_file), exist_ok=True)\n",
    "    pdf = PdfPages(save_file)\n",
    "    pdf.savefig(fig, bbox_inches='tight',dpi=300)\n",
    "    pdf.close()\n",
    "    return"
   ]
  },
  {
   "cell_type": "code",
   "execution_count": 36,
   "metadata": {},
   "outputs": [],
   "source": [
    "save_pdf(\"../data/proteomics/protein_model_coefs.pdf\", f)"
   ]
  },
  {
   "cell_type": "code",
   "execution_count": null,
   "metadata": {},
   "outputs": [],
   "source": []
  },
  {
   "cell_type": "code",
   "execution_count": 10,
   "metadata": {},
   "outputs": [
    {
     "data": {
      "text/html": [
       "<div>\n",
       "<style scoped>\n",
       "    .dataframe tbody tr th:only-of-type {\n",
       "        vertical-align: middle;\n",
       "    }\n",
       "\n",
       "    .dataframe tbody tr th {\n",
       "        vertical-align: top;\n",
       "    }\n",
       "\n",
       "    .dataframe thead th {\n",
       "        text-align: right;\n",
       "    }\n",
       "</style>\n",
       "<table border=\"1\" class=\"dataframe\">\n",
       "  <thead>\n",
       "    <tr style=\"text-align: right;\">\n",
       "      <th></th>\n",
       "      <th>gene</th>\n",
       "      <th>coef</th>\n",
       "      <th>se</th>\n",
       "      <th>obs</th>\n",
       "      <th>t_stat</th>\n",
       "      <th>p_value</th>\n",
       "      <th>ci_low</th>\n",
       "      <th>ci_high</th>\n",
       "    </tr>\n",
       "  </thead>\n",
       "  <tbody>\n",
       "    <tr>\n",
       "      <th>0</th>\n",
       "      <td>FGF2</td>\n",
       "      <td>0.207312</td>\n",
       "      <td>0.027395</td>\n",
       "      <td>50732</td>\n",
       "      <td>7.567545</td>\n",
       "      <td>3.867551e-14</td>\n",
       "      <td>0.153618</td>\n",
       "      <td>0.261006</td>\n",
       "    </tr>\n",
       "    <tr>\n",
       "      <th>1</th>\n",
       "      <td>ROBO1</td>\n",
       "      <td>3.149361</td>\n",
       "      <td>0.074009</td>\n",
       "      <td>50854</td>\n",
       "      <td>42.553646</td>\n",
       "      <td>0.000000e+00</td>\n",
       "      <td>3.004302</td>\n",
       "      <td>3.294419</td>\n",
       "    </tr>\n",
       "    <tr>\n",
       "      <th>2</th>\n",
       "      <td>GLOD4</td>\n",
       "      <td>0.791080</td>\n",
       "      <td>0.051626</td>\n",
       "      <td>50692</td>\n",
       "      <td>15.323296</td>\n",
       "      <td>7.024383e-53</td>\n",
       "      <td>0.689892</td>\n",
       "      <td>0.892267</td>\n",
       "    </tr>\n",
       "    <tr>\n",
       "      <th>3</th>\n",
       "      <td>MMP3</td>\n",
       "      <td>-0.464240</td>\n",
       "      <td>0.037758</td>\n",
       "      <td>50814</td>\n",
       "      <td>-12.295176</td>\n",
       "      <td>1.077282e-34</td>\n",
       "      <td>-0.538246</td>\n",
       "      <td>-0.390234</td>\n",
       "    </tr>\n",
       "    <tr>\n",
       "      <th>4</th>\n",
       "      <td>DNER</td>\n",
       "      <td>-3.978900</td>\n",
       "      <td>0.067999</td>\n",
       "      <td>50688</td>\n",
       "      <td>-58.513763</td>\n",
       "      <td>0.000000e+00</td>\n",
       "      <td>-4.112180</td>\n",
       "      <td>-3.845621</td>\n",
       "    </tr>\n",
       "  </tbody>\n",
       "</table>\n",
       "</div>"
      ],
      "text/plain": [
       "    gene      coef        se    obs     t_stat       p_value    ci_low  \\\n",
       "0   FGF2  0.207312  0.027395  50732   7.567545  3.867551e-14  0.153618   \n",
       "1  ROBO1  3.149361  0.074009  50854  42.553646  0.000000e+00  3.004302   \n",
       "2  GLOD4  0.791080  0.051626  50692  15.323296  7.024383e-53  0.689892   \n",
       "3   MMP3 -0.464240  0.037758  50814 -12.295176  1.077282e-34 -0.538246   \n",
       "4   DNER -3.978900  0.067999  50688 -58.513763  0.000000e+00 -4.112180   \n",
       "\n",
       "    ci_high  \n",
       "0  0.261006  \n",
       "1  3.294419  \n",
       "2  0.892267  \n",
       "3 -0.390234  \n",
       "4 -3.845621  "
      ]
     },
     "execution_count": 10,
     "metadata": {},
     "output_type": "execute_result"
    }
   ],
   "source": [
    "protein_coef_df.head()"
   ]
  },
  {
   "cell_type": "code",
   "execution_count": null,
   "metadata": {},
   "outputs": [],
   "source": []
  }
 ],
 "metadata": {
  "kernelspec": {
   "display_name": "analysis",
   "language": "python",
   "name": "python3"
  },
  "language_info": {
   "codemirror_mode": {
    "name": "ipython",
    "version": 3
   },
   "file_extension": ".py",
   "mimetype": "text/x-python",
   "name": "python",
   "nbconvert_exporter": "python",
   "pygments_lexer": "ipython3",
   "version": "3.10.12"
  }
 },
 "nbformat": 4,
 "nbformat_minor": 2
}
