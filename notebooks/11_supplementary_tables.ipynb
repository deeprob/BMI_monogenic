{
 "cells": [
  {
   "cell_type": "code",
   "execution_count": 1,
   "metadata": {},
   "outputs": [],
   "source": [
    "import pandas as pd\n",
    "import re\n",
    "from functools import reduce"
   ]
  },
  {
   "cell_type": "markdown",
   "metadata": {},
   "source": [
    "# STable 1: Cross ancestry meta analysis statistics"
   ]
  },
  {
   "cell_type": "code",
   "execution_count": 2,
   "metadata": {},
   "outputs": [],
   "source": [
    "meta_file = \"../data/meta/tables/all_ancestry.xlsx\"\n",
    "meta_df = pd.read_excel(meta_file, index_col=[0,1], header=[0,1,2])"
   ]
  },
  {
   "cell_type": "markdown",
   "metadata": {},
   "source": [
    "# STable 2: Cross ancestry meta analysis using METAL"
   ]
  },
  {
   "cell_type": "code",
   "execution_count": 3,
   "metadata": {},
   "outputs": [],
   "source": [
    "metal_file = \"../data/metal/bmi_rint_monogenic_meta_metal.xlsx\"\n",
    "metal_df = pd.read_excel(metal_file, index_col=[0], header=[0,1,2])"
   ]
  },
  {
   "cell_type": "markdown",
   "metadata": {},
   "source": [
    "# STable 3: Shadow effects"
   ]
  },
  {
   "cell_type": "code",
   "execution_count": 4,
   "metadata": {},
   "outputs": [],
   "source": [
    "shadow_file = \"../data/meta/tables/shadow_effect.xlsx\"\n",
    "shadow_df = pd.read_excel(shadow_file, index_col=[0,1], header=[0,1,2])"
   ]
  },
  {
   "cell_type": "markdown",
   "metadata": {},
   "source": [
    "# STable 4: LOVO"
   ]
  },
  {
   "cell_type": "code",
   "execution_count": 5,
   "metadata": {},
   "outputs": [],
   "source": [
    "lovo_file = \"../data/meta/tables/lovo.xlsx\"\n",
    "lovo_df = pd.read_excel(lovo_file, index_col=[0,1,2], header=[0,1])"
   ]
  },
  {
   "cell_type": "markdown",
   "metadata": {},
   "source": [
    "# STable 5: Ancestral heterogeneity"
   ]
  },
  {
   "cell_type": "code",
   "execution_count": 6,
   "metadata": {},
   "outputs": [],
   "source": [
    "hetz_file = \"../data/meta/tables/qstats_ancestry.tsv\"\n",
    "hetz_df = pd.read_csv(hetz_file, sep=\"\\t\")"
   ]
  },
  {
   "cell_type": "markdown",
   "metadata": {},
   "source": [
    "# STable 6: Medications"
   ]
  },
  {
   "cell_type": "code",
   "execution_count": 7,
   "metadata": {},
   "outputs": [],
   "source": [
    "med_file = \"../data/meta/tables/meds.xlsx\"\n",
    "med_df = pd.read_excel(med_file, index_col=[0,1], header=[0,1,2])"
   ]
  },
  {
   "cell_type": "markdown",
   "metadata": {},
   "source": [
    "# STable 7: Obesity clinical category enrichment"
   ]
  },
  {
   "cell_type": "code",
   "execution_count": 8,
   "metadata": {},
   "outputs": [],
   "source": [
    "bmi_cat_file = \"../data/enrichment/bmi_cat/monogenic_enrich_bmi_cat.xlsx\"\n",
    "bmi_cat_df = pd.read_excel(bmi_cat_file, index_col=[0,1], header=[0,1])"
   ]
  },
  {
   "cell_type": "markdown",
   "metadata": {},
   "source": [
    "# STable 8: Comorbidity enrichment"
   ]
  },
  {
   "cell_type": "code",
   "execution_count": 9,
   "metadata": {},
   "outputs": [],
   "source": [
    "comorbid_file = \"../data/enrichment/comorbid/monogenic_enrich_comorbid.xlsx\"\n",
    "comorbid_df = pd.read_excel(comorbid_file, index_col=[0,1], header=[0,1])"
   ]
  },
  {
   "cell_type": "markdown",
   "metadata": {},
   "source": [
    "# STable 9: Structural Equation Modelling"
   ]
  },
  {
   "cell_type": "code",
   "execution_count": 10,
   "metadata": {},
   "outputs": [],
   "source": [
    "sem_file = \"../data/sem/sem_meta.xlsx\"\n",
    "sem_df = pd.read_excel(sem_file, index_col=[0,1], header=[0])"
   ]
  },
  {
   "cell_type": "markdown",
   "metadata": {},
   "source": [
    "# STable 10: Phewas"
   ]
  },
  {
   "cell_type": "code",
   "execution_count": 11,
   "metadata": {},
   "outputs": [],
   "source": [
    "phewas_df = pd.DataFrame()\n",
    "for genes in [\"RIF1\", \"YLPM1\", \"GIGYF1\", \"SLC5A3\", \"GRM7\"]:\n",
    "    phewas_file = f\"../data/phewas/{genes}/phewas_meta.xlsx\"\n",
    "    phewas_df = pd.concat([phewas_df, pd.read_excel(phewas_file, index_col=[0,1,2,3], header=[0,1])])"
   ]
  },
  {
   "cell_type": "markdown",
   "metadata": {},
   "source": [
    "# STable 11: PGS interaction"
   ]
  },
  {
   "cell_type": "code",
   "execution_count": 12,
   "metadata": {},
   "outputs": [],
   "source": [
    "pgs_file = \"../data/pgs_interaction/meta_pgs_interaction.xlsx\"\n",
    "pgs_df = pd.read_excel(pgs_file, index_col=[0,1], header=[0])"
   ]
  },
  {
   "cell_type": "markdown",
   "metadata": {},
   "source": [
    "# STable 12: BMI distribution by PGS quantiles"
   ]
  },
  {
   "cell_type": "code",
   "execution_count": 13,
   "metadata": {},
   "outputs": [],
   "source": [
    "bmi_pgs_file = \"../data/pgs_interaction/bmi_by_pgs_cat.xlsx\"\n",
    "bmi_pgs_df = pd.read_excel(bmi_pgs_file, index_col=[0], header=[0,1])"
   ]
  },
  {
   "cell_type": "markdown",
   "metadata": {},
   "source": [
    "# STable 13: PTV protein association"
   ]
  },
  {
   "cell_type": "code",
   "execution_count": 14,
   "metadata": {},
   "outputs": [],
   "source": [
    "ptv_protein_file = \"../data/proteomics/assoc_protein_gene_carrier.csv.gz\"\n",
    "ptv_protein_df = pd.read_csv(ptv_protein_file, index_col=[-1, 0], header=[0])"
   ]
  },
  {
   "cell_type": "markdown",
   "metadata": {},
   "source": [
    "# STable 14: Protein BMI assoc"
   ]
  },
  {
   "cell_type": "code",
   "execution_count": 15,
   "metadata": {},
   "outputs": [],
   "source": [
    "protein_bmi_file = \"../data/proteomics/protein_bmi_assoc.csv.gz\"\n",
    "protein_bmi_df = pd.read_csv(protein_bmi_file, index_col=[0,1], header=[0])"
   ]
  },
  {
   "cell_type": "markdown",
   "metadata": {},
   "source": [
    "# STable 15: Cross ancestry previous genes"
   ]
  },
  {
   "cell_type": "code",
   "execution_count": 16,
   "metadata": {},
   "outputs": [],
   "source": [
    "previous_meta_file = \"../data/known_genes/monogenic_meta_known_genes.xlsx\"\n",
    "previous_meta_df = pd.read_excel(previous_meta_file, index_col=[0,1], header=[0,1,2])"
   ]
  },
  {
   "cell_type": "markdown",
   "metadata": {},
   "source": [
    "# STable 16: Cross ancestry previous sex specific"
   ]
  },
  {
   "cell_type": "code",
   "execution_count": 17,
   "metadata": {},
   "outputs": [],
   "source": [
    "previous_meta_sex_dfs = []\n",
    "\n",
    "for sex in [\"male\", \"female\"]:\n",
    "    pms_file = f\"../data/known_genes/sex_specific_known_{sex}.xlsx\"\n",
    "    pms_df = pd.read_excel(pms_file, index_col=[0,1], header=[0,1,2])\n",
    "    pms_df = pd.concat([pms_df],  keys=[sex], names=[\"sex\"], axis=1)\n",
    "    previous_meta_sex_dfs.append(pms_df)\n",
    "\n",
    "previous_meta_sex_df = pd.concat((previous_meta_sex_dfs), axis=1)\n",
    "previous_meta_sex_df.columns = pd.MultiIndex.from_tuples(\n",
    "            [(gene, mask, sex, stat) for sex, gene, mask, stat in previous_meta_sex_df.columns],\n",
    "            names=[\"Gene\", \"Gene Mask\", \"Sex\", \"Statistic\"]\n",
    "        )\n",
    "\n",
    "previous_meta_sex_df = previous_meta_sex_df.loc[:, \n",
    "    [(g,\"pLoF\",s,st) \n",
    "    for g in previous_meta_sex_df.columns.get_level_values(\"Gene\").unique() \n",
    "    for s in [\"female\", \"male\"]\n",
    "    for st in previous_meta_sex_df.columns.get_level_values(\"Statistic\").unique()\n",
    "    ]\n",
    "]"
   ]
  },
  {
   "cell_type": "markdown",
   "metadata": {},
   "source": [
    "# STable 17: Comorbidity diagnosis"
   ]
  },
  {
   "cell_type": "code",
   "execution_count": 18,
   "metadata": {},
   "outputs": [],
   "source": [
    "comorbid_selection_df = pd.read_excel(\"../data/enrichment/comorbid/obesity_associated_diseases.xlsx\", index_col=0)"
   ]
  },
  {
   "cell_type": "markdown",
   "metadata": {},
   "source": [
    "# Organize dataframes"
   ]
  },
  {
   "cell_type": "code",
   "execution_count": 19,
   "metadata": {},
   "outputs": [],
   "source": [
    "supp_dfs = [\n",
    "    meta_df, metal_df, shadow_df, lovo_df, hetz_df, med_df, # Result 1\n",
    "    bmi_cat_df, comorbid_df, sem_df, phewas_df,  # Result 2\n",
    "    pgs_df, bmi_pgs_df, # Result 3\n",
    "    ptv_protein_df, protein_bmi_df, # Result 4\n",
    "    previous_meta_df, previous_meta_sex_df,\n",
    "    comorbid_selection_df, # Methods\n",
    "]"
   ]
  },
  {
   "cell_type": "code",
   "execution_count": 20,
   "metadata": {},
   "outputs": [],
   "source": [
    "with pd.ExcelWriter('../manuscript/drafts_review1/Supplementary.xlsx', engine='xlsxwriter', mode=\"w\") as writer:\n",
    "    for i, df in enumerate(supp_dfs):\n",
    "            df.to_excel(writer, sheet_name=f\"Supplementary Table {i+1}\", index=True)\n"
   ]
  },
  {
   "cell_type": "code",
   "execution_count": null,
   "metadata": {},
   "outputs": [],
   "source": []
  }
 ],
 "metadata": {
  "kernelspec": {
   "display_name": "analysis",
   "language": "python",
   "name": "python3"
  },
  "language_info": {
   "codemirror_mode": {
    "name": "ipython",
    "version": 3
   },
   "file_extension": ".py",
   "mimetype": "text/x-python",
   "name": "python",
   "nbconvert_exporter": "python",
   "pygments_lexer": "ipython3",
   "version": "3.10.12"
  }
 },
 "nbformat": 4,
 "nbformat_minor": 2
}
