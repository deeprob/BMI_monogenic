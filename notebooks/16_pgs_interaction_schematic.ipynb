{
 "cells": [
  {
   "cell_type": "code",
   "execution_count": 1,
   "metadata": {},
   "outputs": [],
   "source": [
    "import os\n",
    "import matplotlib\n",
    "import matplotlib.pyplot as plt\n",
    "from matplotlib.ticker import MultipleLocator\n",
    "import matplotlib.patches as mpatches\n",
    "matplotlib.rcParams['pdf.fonttype'] = 42\n",
    "matplotlib.rcParams['ps.fonttype'] = 42\n",
    "matplotlib.rcParams['font.sans-serif'] = \"Arial\" # missing fonts:: https://alexanderlabwhoi.github.io/post/2021-03-missingfont/\n",
    "# Then, \"ALWAYS use sans-serif fonts\"\n",
    "matplotlib.rcParams['font.family'] = \"sans-serif\"\n",
    "matplotlib.rcParams.update({'font.size': 7, 'axes.linewidth': 1, 'xtick.major.width': 1, 'xtick.major.size': 5, 'ytick.major.width': 1, 'ytick.major.size': 5})\n",
    "from matplotlib.backends.backend_pdf import PdfPages\n",
    "import numpy as np"
   ]
  },
  {
   "cell_type": "code",
   "execution_count": 2,
   "metadata": {},
   "outputs": [],
   "source": [
    "def save_pdf(save_file, fig):\n",
    "    os.makedirs(os.path.dirname(save_file), exist_ok=True)\n",
    "    pdf = PdfPages(save_file)\n",
    "    pdf.savefig(fig, bbox_inches='tight',dpi=300)\n",
    "    pdf.close()\n",
    "    return"
   ]
  },
  {
   "cell_type": "code",
   "execution_count": 9,
   "metadata": {},
   "outputs": [
    {
     "data": {
      "image/png": "[encoded data removed]",
      "text/plain": [
       "<Figure size 350x250 with 6 Axes>"
      ]
     },
     "metadata": {},
     "output_type": "display_data"
    }
   ],
   "source": [
    "fig, ax = plt.subplots(2,3,figsize=(3.5, 2.5), sharex=True, sharey=True)\n",
    "\n",
    "y2s = [\n",
    "    [30, 30, 30],\n",
    "    [10, 10, 10]\n",
    "    ]\n",
    "\n",
    "ms = [\n",
    "    [1,2,0.75],\n",
    "    [1,1.5,0.7]\n",
    "]\n",
    "\n",
    "titles = [\n",
    "    [\"No interaction\", \"PGS amplifies\", \"Lower combined effect\"],\n",
    "    [\"No interaction\", \"PGS overrides\", \"Effect retained\"]\n",
    "]\n",
    "for i in range(2):\n",
    "    for j in range(3):\n",
    "        x1=20\n",
    "        x2=30\n",
    "        y1=20\n",
    "        y2=y2s[i][j]\n",
    "\n",
    "        ax[i][j].plot([x1, x2], [y1, y2], color=\"navy\")\n",
    "        ax[i][j].scatter(x1, y1, color='navy', s=50, zorder=5)\n",
    "        ax[i][j].scatter(x2, y2, color='navy', s=50, zorder=5)\n",
    "\n",
    "        d = 20\n",
    "        m = ms[i][j]\n",
    "        ax[i][j].plot([x1, x2], [y1+d, y2+d*m], color=\"indianred\")\n",
    "        ax[i][j].scatter(x1, y1+d, color='indianred', s=50, zorder=5)\n",
    "        ax[i][j].scatter(x2, y2+d*m, color='indianred', s=50, zorder=5)\n",
    "\n",
    "\n",
    "        ax[i][j].spines[[\"top\", \"right\"]].set_visible(False)\n",
    "        ax[i][j].set_xlim(x1-5, x2+5)\n",
    "        ax[i][j].set_ylim(0, 80)\n",
    "        ax[i][j].set_xticks([])\n",
    "        ax[i][j].set_yticks([])\n",
    "        ax[i][j].set_title(titles[i][j], fontsize=6);\n",
    "\n",
    "fig.tight_layout()"
   ]
  },
  {
   "cell_type": "code",
   "execution_count": 10,
   "metadata": {},
   "outputs": [],
   "source": [
    "save_pdf(\"../data/pgs_interaction/schematic.pdf\", fig)"
   ]
  },
  {
   "cell_type": "code",
   "execution_count": null,
   "metadata": {},
   "outputs": [],
   "source": []
  }
 ],
 "metadata": {
  "kernelspec": {
   "display_name": "analysis",
   "language": "python",
   "name": "python3"
  },
  "language_info": {
   "codemirror_mode": {
    "name": "ipython",
    "version": 3
   },
   "file_extension": ".py",
   "mimetype": "text/x-python",
   "name": "python",
   "nbconvert_exporter": "python",
   "pygments_lexer": "ipython3",
   "version": "3.10.12"
  }
 },
 "nbformat": 4,
 "nbformat_minor": 2
}
