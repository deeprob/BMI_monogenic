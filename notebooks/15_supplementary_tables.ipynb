{
 "cells": [
  {
   "cell_type": "code",
   "execution_count": 100,
   "metadata": {},
   "outputs": [],
   "source": [
    "import pandas as pd\n",
    "import re\n",
    "from functools import reduce"
   ]
  },
  {
   "cell_type": "markdown",
   "metadata": {},
   "source": [
    "# STable 1: Independent population results"
   ]
  },
  {
   "cell_type": "code",
   "execution_count": 62,
   "metadata": {},
   "outputs": [],
   "source": [
    "def get_gene_mask(regenie_id):\n",
    "    pattern = re.compile(\"(.+)\\.(PTV.*)\\.0\\.001\")\n",
    "    m = re.match(pattern, regenie_id)\n",
    "    if not m:\n",
    "        print(regenie_id)\n",
    "    gene = m.group(1)\n",
    "    mask = m.group(2)\n",
    "    mask_dict = {\n",
    "        \"PTV\": \"pLoF\", \n",
    "        \"PTV_Missense_strict\": \"pLoF|Missense_strict\",\n",
    "        \"PTV_Missense_lenient\": \"pLoF|Missense_strict|Missense_lenient\"\n",
    "        }\n",
    "    return pd.Series({\"gene\": gene, \"mask\": mask_dict[mask]})\n",
    "\n",
    "\n",
    "def parse_regenie_output(df, add_columns=[\"nsamples\", \"population\"]):\n",
    "    df[[\"GENE\", \"MASK\"]] = df.ID.apply(get_gene_mask)\n",
    "    columns = [\"GENE\", \"MASK\"] + [\"N\", \"BETA\", \"SE\", \"CHISQ\", \"p_value\"] + add_columns\n",
    "    df = df.loc[:, columns]\n",
    "    return df"
   ]
  },
  {
   "cell_type": "code",
   "execution_count": 10,
   "metadata": {},
   "outputs": [],
   "source": [
    "pop_df = pd.read_excel(\"../data/meta/independent_pop_assoc.xlsx\")"
   ]
  },
  {
   "cell_type": "code",
   "execution_count": 11,
   "metadata": {},
   "outputs": [],
   "source": [
    "pop_df = parse_regenie_output(pop_df)"
   ]
  },
  {
   "cell_type": "markdown",
   "metadata": {},
   "source": [
    "# STable 2: Risk genes"
   ]
  },
  {
   "cell_type": "code",
   "execution_count": 12,
   "metadata": {},
   "outputs": [],
   "source": [
    "risk_df = pd.read_excel(\"../data/meta/risk_meta.xlsx\")"
   ]
  },
  {
   "cell_type": "markdown",
   "metadata": {},
   "source": [
    "# STable 3: Protective genes"
   ]
  },
  {
   "cell_type": "code",
   "execution_count": 14,
   "metadata": {},
   "outputs": [],
   "source": [
    "protective_df = pd.read_excel(\"../data/meta/protective_meta.xlsx\")"
   ]
  },
  {
   "cell_type": "markdown",
   "metadata": {},
   "source": [
    "# STable 4: Meta analysis results of discovered genes"
   ]
  },
  {
   "cell_type": "code",
   "execution_count": 61,
   "metadata": {},
   "outputs": [],
   "source": [
    "def parse_meta_output(df):\n",
    "    stats_cols = [\"beta\", \"se\", \"ci_low\", \"ci_high\", \"z_score\", \"p_value\"]\n",
    "    mpop_dict = {\"d\": \"eur\", \"r\": \"non_eur\"}\n",
    "    rename_dict = {\"nsamples\": \"n_samples\"}\n",
    "    renamed_cols = [\"n_samples\"]\n",
    "    for mpop in [\"d\", \"r\"]:\n",
    "        for stat in stats_cols:\n",
    "            rename_dict[f\"{mpop}{stat}\"] = f\"{mpop_dict[mpop]}_{stat}\"\n",
    "            renamed_cols.append(f\"{mpop_dict[mpop]}_{stat}\")\n",
    "        rename_dict[f\"{mpop}samples\"] = f\"{mpop_dict[mpop]}_samples\"\n",
    "        renamed_cols.append(f\"{mpop_dict[mpop]}_samples\")\n",
    "    df[[\"GENE\", \"MASK\"]] = df.ID.apply(get_gene_mask)\n",
    "    df = df.rename(columns=rename_dict)\n",
    "    df = df.loc[:, [\"GENE\", \"MASK\"]+stats_cols+renamed_cols]\n",
    "    return df"
   ]
  },
  {
   "cell_type": "code",
   "execution_count": 15,
   "metadata": {},
   "outputs": [],
   "source": [
    "meta_df = pd.read_excel(\"../data/meta/monogenic_meta.xlsx\")"
   ]
  },
  {
   "cell_type": "code",
   "execution_count": 23,
   "metadata": {},
   "outputs": [],
   "source": [
    "meta_df = parse_meta_output(meta_df)"
   ]
  },
  {
   "cell_type": "markdown",
   "metadata": {},
   "source": [
    "# STable 5: Known genes from other RVAS biases"
   ]
  },
  {
   "cell_type": "code",
   "execution_count": 37,
   "metadata": {},
   "outputs": [],
   "source": [
    "known_df = pd.read_excel(\"../data/known_genes/known_obesity_genes.xlsx\")"
   ]
  },
  {
   "cell_type": "code",
   "execution_count": 38,
   "metadata": {},
   "outputs": [],
   "source": [
    "known_df = parse_meta_output(known_df).sort_values(\"beta\")"
   ]
  },
  {
   "cell_type": "markdown",
   "metadata": {},
   "source": [
    "# STable 6: Inter-population variance of discovered genes"
   ]
  },
  {
   "cell_type": "code",
   "execution_count": 60,
   "metadata": {},
   "outputs": [],
   "source": [
    "def parse_var_df(df):\n",
    "    df[[\"GENE\", \"MASK\"]] = df.ID.apply(get_gene_mask)\n",
    "    df = df.loc[:, [\"GENE\", \"MASK\"]+[\"variance\", \"status\"]]\n",
    "    return df.sort_values(\"variance\")"
   ]
  },
  {
   "cell_type": "code",
   "execution_count": 43,
   "metadata": {},
   "outputs": [],
   "source": [
    "var_df = pd.read_excel(\"../data/meta/assoc_variance.xlsx\")"
   ]
  },
  {
   "cell_type": "code",
   "execution_count": 44,
   "metadata": {},
   "outputs": [],
   "source": [
    "var_df = parse_var_df(var_df)"
   ]
  },
  {
   "cell_type": "markdown",
   "metadata": {},
   "source": [
    "# STable 7: Obesity clinical category enrichment"
   ]
  },
  {
   "cell_type": "code",
   "execution_count": 63,
   "metadata": {},
   "outputs": [],
   "source": [
    "def parse_obesity_cat_df(df):\n",
    "    df[[\"GENE\", \"MASK\"]] = df.ID.apply(get_gene_mask)\n",
    "    df = df.rename(columns={\"comorbidity\": \"obesity_category\"})\n",
    "    df = df.loc[:, [\"GENE\", \"MASK\", \"obesity_category\", \"OR\", \"p_value\", \"ci_low\", \"ci_high\"]]\n",
    "    return df"
   ]
  },
  {
   "cell_type": "code",
   "execution_count": 64,
   "metadata": {},
   "outputs": [],
   "source": [
    "bmi_cat_enrich_df = pd.read_excel(\"../data/bmi_cat_enrichment/monogenic_bmi_categories.xlsx\", index_col=0)"
   ]
  },
  {
   "cell_type": "code",
   "execution_count": 65,
   "metadata": {},
   "outputs": [],
   "source": [
    "bmi_cat_enrich_df = parse_obesity_cat_df(bmi_cat_enrich_df)"
   ]
  },
  {
   "cell_type": "markdown",
   "metadata": {},
   "source": [
    "# STable 8: ICD enrichment"
   ]
  },
  {
   "cell_type": "code",
   "execution_count": 71,
   "metadata": {},
   "outputs": [],
   "source": [
    "def parse_obesity_cat_df(df):\n",
    "    df[[\"GENE\", \"MASK\"]] = df.ID.apply(get_gene_mask)\n",
    "    df = df.loc[:, [\"GENE\", \"MASK\", \"comorbidity\", \"OR\", \"p_value\", \"ci_low\", \"ci_high\"]]\n",
    "    return df"
   ]
  },
  {
   "cell_type": "code",
   "execution_count": 69,
   "metadata": {},
   "outputs": [],
   "source": [
    "icd_enrich_df = pd.read_excel(\"../data/icd_enrichment/monogenic_comorbidities.xlsx\", index_col=0)"
   ]
  },
  {
   "cell_type": "code",
   "execution_count": 72,
   "metadata": {},
   "outputs": [],
   "source": [
    "icd_enrich_df = parse_obesity_cat_df(icd_enrich_df)"
   ]
  },
  {
   "cell_type": "markdown",
   "metadata": {},
   "source": [
    "# STable 9: Protein model coefficients"
   ]
  },
  {
   "cell_type": "code",
   "execution_count": 77,
   "metadata": {},
   "outputs": [],
   "source": [
    "def parse_protein_df(df):\n",
    "    df = df.rename(columns={\"gene\": \"protein\"}) \n",
    "    return df"
   ]
  },
  {
   "cell_type": "code",
   "execution_count": 78,
   "metadata": {},
   "outputs": [],
   "source": [
    "protein_df = pd.read_csv(\"../data/proteomics/protein_model_coefs.csv\")"
   ]
  },
  {
   "cell_type": "code",
   "execution_count": 80,
   "metadata": {},
   "outputs": [],
   "source": [
    "protein_df = parse_protein_df(protein_df)"
   ]
  },
  {
   "cell_type": "markdown",
   "metadata": {},
   "source": [
    "# STable 10: Literature review meta"
   ]
  },
  {
   "cell_type": "code",
   "execution_count": 81,
   "metadata": {},
   "outputs": [],
   "source": [
    "lit_df = pd.read_excel(\"../data/manual_lit/monogenic_lit_review.xlsx\")"
   ]
  },
  {
   "cell_type": "markdown",
   "metadata": {},
   "source": [
    "# STable 11: Literature review summary"
   ]
  },
  {
   "cell_type": "code",
   "execution_count": 85,
   "metadata": {},
   "outputs": [],
   "source": [
    "lit_summary_df = lit_df.loc[:, [\"gene\", \"rvas\", \"gwas\", \"CMDKP\", \"pubmed_hits_max50\", \"impc\"]]"
   ]
  },
  {
   "cell_type": "markdown",
   "metadata": {},
   "source": [
    "# STable 12: Pubmed hits"
   ]
  },
  {
   "cell_type": "code",
   "execution_count": 87,
   "metadata": {},
   "outputs": [],
   "source": [
    "pubmed_df = pd.read_excel(\"../data/manual_lit/pubmed_search.xlsx\")"
   ]
  },
  {
   "cell_type": "markdown",
   "metadata": {},
   "source": [
    "# STable 13: PGS interaction model results"
   ]
  },
  {
   "cell_type": "code",
   "execution_count": 92,
   "metadata": {},
   "outputs": [],
   "source": [
    "def parse_pgs_df(df):\n",
    "    df[[\"GENE\", \"MASK\"]] = df.ID.apply(get_gene_mask)\n",
    "    df = df.loc[:, [\"GENE\", \"MASK\", \"beta\", \"se\", \"ci_low\", \"ci_high\", \"z_score\", \"p_value\"]]\n",
    "    return df"
   ]
  },
  {
   "cell_type": "code",
   "execution_count": 90,
   "metadata": {},
   "outputs": [],
   "source": [
    "pgs_df = pd.read_excel(\"../data/pgs_interaction/monogenic_pgs_int_meta.xlsx\")"
   ]
  },
  {
   "cell_type": "code",
   "execution_count": 94,
   "metadata": {},
   "outputs": [],
   "source": [
    "pgs_df = parse_pgs_df(pgs_df)"
   ]
  },
  {
   "cell_type": "markdown",
   "metadata": {},
   "source": [
    "# STable 14: Lifestyle factor meta results for pa, smoke, alcohol"
   ]
  },
  {
   "cell_type": "code",
   "execution_count": 111,
   "metadata": {},
   "outputs": [],
   "source": [
    "def parse_lf_df(dfs, cohorts, lifestyles=[\"pa\", \"alcohol\", \"smoke\"]):\n",
    "    pre_dfs = []\n",
    "    for df,cohort in zip(dfs, cohorts):\n",
    "        df = df.set_index(\"ID\")\n",
    "        df.columns = [f\"{cohort}_{c}\" for c in df.columns]\n",
    "        pre_dfs.append(df)\n",
    "    df = reduce(lambda x,y: x.merge(y, left_index=True, right_index=True), pre_dfs)\n",
    "    df = df.reset_index()\n",
    "    df[[\"GENE\", \"MASK\"]] = df.ID.apply(get_gene_mask)\n",
    "    df = df.loc[:, [\"GENE\", \"MASK\"] + [f\"{c}_{lf}_{sc}\" for c in cohorts for lf in lifestyles for sc in [\"F\", \"pvalue\"]]]\n",
    "    return df\n",
    "\n"
   ]
  },
  {
   "cell_type": "code",
   "execution_count": 97,
   "metadata": {},
   "outputs": [],
   "source": [
    "aou_lf_bias_df = pd.read_csv(\"../data/sex_lf_bias/aou_sex_lf_bias.csv.gz\")\n",
    "ukb_lf_bias_df = pd.read_csv(\"../data/sex_lf_bias/ukb_sex_lf_bias.csv.gz\")"
   ]
  },
  {
   "cell_type": "code",
   "execution_count": 113,
   "metadata": {},
   "outputs": [],
   "source": [
    "lf_df = parse_lf_df([ukb_lf_bias_df, aou_lf_bias_df], [\"ukb\", \"aou\"])"
   ]
  },
  {
   "cell_type": "markdown",
   "metadata": {},
   "source": [
    "# STable 15: Lifestyle results in UKB for diet, sleep and sedentary lifestyles"
   ]
  },
  {
   "cell_type": "code",
   "execution_count": 122,
   "metadata": {},
   "outputs": [],
   "source": [
    "def parse_ukb_lf_df(df, lifestyles=[\"diet\", \"sleep\", \"sedentary\"]):\n",
    "    df[[\"GENE\", \"MASK\"]] = df.ID.apply(get_gene_mask)\n",
    "    df = df.loc[:, [\"GENE\", \"MASK\"] + [f\"{lf}_{sc}\" for lf in lifestyles for sc in [\"F\", \"pvalue\"]]]\n",
    "    return df"
   ]
  },
  {
   "cell_type": "code",
   "execution_count": 123,
   "metadata": {},
   "outputs": [],
   "source": [
    "ukb_lf_df = parse_ukb_lf_df(ukb_lf_bias_df)"
   ]
  },
  {
   "cell_type": "markdown",
   "metadata": {},
   "source": [
    "# STable 16: Lifestyle selection"
   ]
  },
  {
   "cell_type": "code",
   "execution_count": 146,
   "metadata": {},
   "outputs": [],
   "source": [
    "# UKB Data\n",
    "lf_data = [\n",
    "    ('met', '22036', \"pa\", \"categorical\", \"No\", \"ukb\"), # https,//biobank.n)dph.ox.ac.uk/ukb/field.cgi?id=22036\n",
    "    ('alcohol', '1558', \"alcohol\", \"categorical\", \"Daily or almost daily\", \"ukb\"), # https,//biobank.n)dph.ox.ac.uk/ukb/field.cgi?id=1558\n",
    "    ('smokecurr', '1239', \"smoke\", \"categorical\", \"Yes, on most or all days\", \"ukb\"), #https,//biobank.n)dph.ox.ac.uk/ukb/field.cgi?id=1239\n",
    "    ('smokepast', '1249', \"smoke\", \"categorical\", \"Yes, on most or all days\", \"ukb\"), #https,//biobank.n)dph.ox.ac.uk/ukb/field.cgi?id=1249\n",
    "    ('physicalhealth', '1585723', \"pa\", \"categorical\", \"General Physical Health: Fair|General Physical Health: Poor\", \"aou\"),\n",
    "    ('alcoholfrequency', '1586201', \"alcohol\", \"categorical\", \"Drink Frequency Past Year: 4 or More Per Week\", \"aou\"),\n",
    "    ('smoking', '1585860', \"smoke\", \"categorical\", \"Smoke Frequency: Every Day\", \"aou\"),\n",
    "    ('tv', '1070', \"sedentary\", \"numerical\", \"greater_95_percentile\", \"ukb\"),\n",
    "    ('computer', '1080', \"sedentary\", \"numerical\", \"greater_95_percentile\", \"ukb\"),\n",
    "    ('sleep', '1160', \"sleep\", \"numerical\", \"greater_95_percentile\", \"ukb\"), \n",
    "\n",
    "]\n",
    "\n",
    "\n",
    "lf_data.append([f\"cookedvegetable\", f\"1289\", \"diet\", \"numerical\", \"lower_5_percentile\", \"ukb\"])\n",
    "lf_data.append([f\"salad\", f\"1299\", \"diet\", \"numerical\", \"lower_5_percentile\", \"ukb\"])\n",
    "lf_data.append([f\"freshfruit\", f\"1309\", \"diet\", \"numerical\", \"lower_5_percentile\", \"ukb\"])\n",
    "lf_data.append([f\"driedfruit\", f\"1319\", \"diet\", \"numerical\", \"lower_5_percentile\", \"ukb\"])\n",
    "lf_data.append([f\"oilyfish\", f\"1329\", \"diet\", \"categorical\", \"5-6 times a week|Once or more daily\", \"ukb\"])\n",
    "lf_data.append([f\"nonoilyfish\", f\"1339\", \"diet\", \"categorical\", \"5-6 times a week|Once or more daily\", \"ukb\"])\n",
    "lf_data.append([f\"procmeat\", f\"1349\", \"diet\", \"categorical\", \"5-6 times a week|Once or more daily\", \"ukb\"])\n",
    "lf_data.append([f\"beef\", f\"1369\", \"diet\", \"categorical\", \"5-6 times a week|Once or more daily\", \"ukb\"])\n",
    "lf_data.append([f\"mutton\", f\"1379\", \"diet\", \"categorical\", \"5-6 times a week|Once or more daily\", \"ukb\"])\n",
    "lf_data.append([f\"pork\", f\"1389\", \"diet\", \"categorical\", \"5-6 times a week|Once or more daily\", \"ukb\"])\n",
    "\n"
   ]
  },
  {
   "cell_type": "code",
   "execution_count": 147,
   "metadata": {},
   "outputs": [],
   "source": [
    "raw_lf_df = pd.DataFrame(lf_data, columns=[\"field_name\", \"field_id\", \"lifestyle\", \"field_type\", \"obesogenic_encoding\", \"biobank\"])"
   ]
  },
  {
   "cell_type": "markdown",
   "metadata": {},
   "source": [
    "# STable 17: Comorbidity diagnosis"
   ]
  },
  {
   "cell_type": "code",
   "execution_count": 132,
   "metadata": {},
   "outputs": [],
   "source": [
    "comorbid_df = pd.read_excel(\"../data/icd_enrichment/obesity_associated_diseases.xlsx\")"
   ]
  },
  {
   "cell_type": "code",
   "execution_count": 149,
   "metadata": {},
   "outputs": [],
   "source": [
    "supp_dfs = [\n",
    "    pop_df, risk_df, protective_df, meta_df, known_df, var_df, # Result 1\n",
    "    bmi_cat_enrich_df, icd_enrich_df,  # Result 2\n",
    "    protein_df, lit_df, lit_summary_df, pubmed_df, # Result 3\n",
    "    pgs_df, lf_df, ukb_lf_df, # Result 4\n",
    "    raw_lf_df, comorbid_df, # Methods\n",
    "]"
   ]
  },
  {
   "cell_type": "code",
   "execution_count": 150,
   "metadata": {},
   "outputs": [],
   "source": [
    "with pd.ExcelWriter('../data/tables/Supplementary.xlsx', engine='xlsxwriter', mode=\"w\") as writer:\n",
    "    for i, df in enumerate(supp_dfs):\n",
    "        # capitallize all columns\n",
    "        df.columns = [c.upper() for c in df.columns]\n",
    "        try:\n",
    "            df.to_excel(writer, sheet_name=f\"Supplementary Table {i+1}\", index=False)\n",
    "        except NotImplementedError:\n",
    "            df.to_excel(writer, sheet_name=f\"Supplementary Table {i+1}\", index=True)"
   ]
  },
  {
   "cell_type": "code",
   "execution_count": null,
   "metadata": {},
   "outputs": [],
   "source": []
  }
 ],
 "metadata": {
  "kernelspec": {
   "display_name": "analysis",
   "language": "python",
   "name": "python3"
  },
  "language_info": {
   "codemirror_mode": {
    "name": "ipython",
    "version": 3
   },
   "file_extension": ".py",
   "mimetype": "text/x-python",
   "name": "python",
   "nbconvert_exporter": "python",
   "pygments_lexer": "ipython3",
   "version": "3.10.12"
  }
 },
 "nbformat": 4,
 "nbformat_minor": 2
}
