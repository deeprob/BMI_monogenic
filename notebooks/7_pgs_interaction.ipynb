{
 "cells": [
  {
   "cell_type": "code",
   "execution_count": 1,
   "metadata": {},
   "outputs": [],
   "source": [
    "import pandas as pd\n",
    "import re\n",
    "import os\n",
    "from functools import reduce\n",
    "import numpy as np\n",
    "from scipy.stats import norm"
   ]
  },
  {
   "cell_type": "code",
   "execution_count": 2,
   "metadata": {},
   "outputs": [],
   "source": [
    "def get_meta_stats_helper(ser, ancestry, alpha=0.05):\n",
    "    effect_sizes = np.array([ser[f\"bmi_rint_coef_{a}\"] for a in ancestry if not pd.isnull(ser[f\"bmi_rint_coef_{a}\"])])\n",
    "    inverse_variances = np.array([(1/ser[f\"bmi_rint_se_{a}\"]**2) for a in ancestry if not pd.isnull(ser[f\"bmi_rint_se_{a}\"])])\n",
    "    assert len(effect_sizes)==len(inverse_variances)\n",
    "\n",
    "    if len(effect_sizes)==0:\n",
    "        return pd.NA, pd.NA, pd.NA, pd.NA, pd.NA, pd.NA, pd.NA\n",
    "\n",
    "    weighted_effect_size = np.sum(effect_sizes*inverse_variances)/np.sum(inverse_variances)\n",
    "    weighted_variance = 1/np.sum(inverse_variances)\n",
    "    weighted_se = np.sqrt(weighted_variance)\n",
    "\n",
    "    # Calculate the Z-score\n",
    "    z_score = weighted_effect_size / weighted_se\n",
    "    # Calculate the two-tailed p-value\n",
    "    p_value = 2 * norm.sf(abs(z_score)) #(1 - norm.cdf(abs(z_score)))\n",
    "\n",
    "    # Calculate critical value for confidence interval\n",
    "    z_critical = norm.ppf(1 - alpha / 2) \n",
    "\n",
    "    # Calculate confidence interval bounds\n",
    "    lower_ci = weighted_effect_size - z_critical * weighted_se\n",
    "    upper_ci = weighted_effect_size + z_critical * weighted_se\n",
    "\n",
    "    nobs = sum([ser[f\"bmi_rint_obs_{a}\"] for a in ancestry if not  pd.isnull(ser[f\"bmi_rint_obs_{a}\"])])\n",
    "    return weighted_effect_size, weighted_se, lower_ci, upper_ci, z_score, p_value, nobs\n",
    "\n",
    "def get_meta_stats(ser):\n",
    "    biobank = [\"aou\", \"ukb\"]\n",
    "    es, se, lci, hci, z_score, p_value, nsamples = get_meta_stats_helper(ser, biobank)\n",
    "    return pd.Series(\n",
    "        {\"gene\": ser.gene, \"gene_mask\": ser.gene_mask, \n",
    "        \"beta\": es, \"se\": se, \"ci_low\": lci, \"ci_high\": hci, \"z_score\":z_score, \"p_value\": p_value, \"nobs\": nsamples\n",
    "        })\n",
    "\n",
    "def get_most_deleterious_idx(ser):\n",
    "    all_masks = set(ser.unique())\n",
    "    most_del = \"Missense_lenient\"\n",
    "    if \"pLoF\" in all_masks:\n",
    "        most_del = \"pLoF\"\n",
    "    elif \"Missense_strict\" in all_masks:\n",
    "        most_del = \"Missense_strict\"\n",
    "    most_del_idx = ser.loc[ser==most_del].index[0]\n",
    "    return most_del_idx\n",
    "\n",
    "\n"
   ]
  },
  {
   "cell_type": "code",
   "execution_count": 3,
   "metadata": {},
   "outputs": [],
   "source": [
    "PROJECT_DIR = \"/Users/deeprobanerjee/Documents/bmi_project/BMI_monogenic\"\n",
    "\n",
    "ukb_df = pd.read_csv(os.path.join(PROJECT_DIR, \"data/pgs_interaction/monogenic_pgs_int_ukb_eur.csv.gz\"))\n",
    "aou_df = pd.read_csv(os.path.join(PROJECT_DIR, \"data/pgs_interaction/monogenic_pgs_int_aou_eur.csv.gz\"))\n",
    "\n",
    "meta_df = aou_df.merge(\n",
    "    ukb_df, \n",
    "    on=[\"gene\", \"gene_mask\"], \n",
    "    suffixes=(\"_aou\", \"_ukb\")\n",
    "    )\n"
   ]
  },
  {
   "cell_type": "code",
   "execution_count": 4,
   "metadata": {},
   "outputs": [],
   "source": [
    "meta_res_df = meta_df.apply(get_meta_stats, axis=1)"
   ]
  },
  {
   "cell_type": "code",
   "execution_count": 6,
   "metadata": {},
   "outputs": [],
   "source": [
    "filename = os.path.join(PROJECT_DIR, \"data/meta/tables/monogenic_meta_most_deleterious.tsv\")\n",
    "most_del_sig_meta_df = pd.read_csv(filename, sep=\"\\t\")\n",
    "\n",
    "most_del_sig_meta_res_df = meta_res_df.merge(most_del_sig_meta_df.loc[:, [\"gene\", \"gene_mask\"]], on=[\"gene\", \"gene_mask\"])\n",
    "most_del_sig_meta_res_df.to_excel(os.path.join(PROJECT_DIR, \"data/pgs_interaction/meta_pgs_interaction.xlsx\"), index=False)\n"
   ]
  },
  {
   "cell_type": "markdown",
   "metadata": {},
   "source": [
    "# Forest plot"
   ]
  },
  {
   "cell_type": "code",
   "execution_count": 7,
   "metadata": {},
   "outputs": [],
   "source": [
    "import os\n",
    "import re\n",
    "import pandas as pd\n",
    "import numpy as np\n",
    "import requests\n",
    "import time\n",
    "import json\n",
    "\n",
    "import seaborn as sns\n",
    "import matplotlib\n",
    "import matplotlib.pyplot as plt\n",
    "from matplotlib.ticker import MultipleLocator\n",
    "import matplotlib.patches as mpatches\n",
    "matplotlib.rcParams['pdf.fonttype'] = 42\n",
    "matplotlib.rcParams['ps.fonttype'] = 42\n",
    "matplotlib.rcParams['font.sans-serif'] = \"Arial\" # missing fonts:: https://alexanderlabwhoi.github.io/post/2021-03-missingfont/\n",
    "# Then, \"ALWAYS use sans-serif fonts\"\n",
    "matplotlib.rcParams['font.family'] = \"sans-serif\"\n",
    "matplotlib.rcParams.update({'font.size': 7, 'axes.linewidth': 1, 'xtick.major.width': 1, 'xtick.major.size': 5, 'ytick.major.width': 1, 'ytick.major.size': 5})\n",
    "from matplotlib.backends.backend_pdf import PdfPages\n"
   ]
  },
  {
   "cell_type": "code",
   "execution_count": 23,
   "metadata": {},
   "outputs": [],
   "source": [
    "def create_forestplot(\n",
    "    df, studies,\n",
    "    labels_col, effect_sizes_col, ci_low_col, ci_high_col,\n",
    "    stats_cols\n",
    "):\n",
    "\n",
    "    # Create a figure with two axes\n",
    "    fig, (ax, ax2) = plt.subplots(1, 2, figsize=(3.5, 4), gridspec_kw={'width_ratios': [1.5, 2]},sharey=True)\n",
    "\n",
    "    # Horizontal line at 0 for the null effect\n",
    "    ax.axvline(x=0, color='k', linestyle='--')\n",
    "    \n",
    "    df[\"ci_low_error\"] = df[effect_sizes_col] - df[ci_low_col]\n",
    "    df[\"ci_high_error\"] =  df[ci_high_col] - df[effect_sizes_col]\n",
    "    \n",
    "    ### main plot ###\n",
    "    # Plotting the effect sizes with different markers per category\n",
    "    last_offset = 0\n",
    "    for i, study in enumerate(studies):\n",
    "        effect_size = df.loc[(df[labels_col]==study), effect_sizes_col].values[0]\n",
    "        ci_low_error = df.loc[(df[labels_col]==study), \"ci_low_error\"].values[0]\n",
    "        ci_high_error = df.loc[(df[labels_col]==study), \"ci_high_error\"].values[0]\n",
    "        errors = np.array([ci_low_error, ci_high_error]).reshape(2, 1)\n",
    "        # Plot each category with a different marker\n",
    "        ax.errorbar(effect_size, i+last_offset*0.25, xerr=[[ci_low_error], [ci_high_error]], fmt=\"o\", color=\"k\", capsize=2.5)\n",
    "\n",
    "        # Place the study name above the group of categories\n",
    "        ax.text(min(df[ci_low_col])-0.2, i+last_offset, study, ha='center', va='center', fontweight='normal', style=\"italic\")\n",
    "\n",
    "        \n",
    "    ax.text(min(df[ci_low_col])-0.2, -1, \"Genes\", ha='center', va='center', fontweight='normal')\n",
    "    \n",
    "    # Invert the y-axis so the studies are from top to bottom\n",
    "    ax.invert_yaxis()\n",
    "\n",
    "    # Customize the left axis: remove yticks but keep the ytick labels for study names\n",
    "    ax.set_yticks([])\n",
    "    ax.tick_params(axis='y', which='both', length=0) \n",
    "\n",
    "\n",
    "    # Labels for axes\n",
    "    ax.set_xlabel('Effect Size')\n",
    "    # ax.set_title('Forest Plot')\n",
    "    # Remove top, right, and left spines\n",
    "    ax.spines['top'].set_visible(False)\n",
    "    ax.spines['right'].set_visible(False)\n",
    "    ax.spines['left'].set_visible(False)\n",
    "\n",
    "    last_offset = 0\n",
    "\n",
    "    for i, study in enumerate(studies):\n",
    "        for s, st_col in enumerate(stats_cols):\n",
    "            stat = df.loc[(df[labels_col]==study), st_col].values[0]\n",
    "            ax2.text(0.1+0.5*s,i+last_offset*0.25, f\"{stat}\", va='center', ha=\"center\")\n",
    "            if i==0:\n",
    "                if s<2:\n",
    "                    ax2.text(0.1+0.5*s, -1, f\"{st_col.lstrip('formatted_')}\", va='center', ha=\"center\")\n",
    "\n",
    "    # Remove the spines and ticks for ax2\n",
    "    ax2.set_yticks([])\n",
    "    ax2.set_xticks([])\n",
    "    ax2.spines['top'].set_visible(False)\n",
    "    ax2.spines['right'].set_visible(False)\n",
    "    ax2.spines['left'].set_visible(False)\n",
    "    ax2.spines['bottom'].set_visible(False)\n",
    "    # ax2.set_title('Statistics')\n",
    "\n",
    "    plt.tight_layout()\n",
    "    return fig\n"
   ]
  },
  {
   "cell_type": "code",
   "execution_count": 24,
   "metadata": {},
   "outputs": [],
   "source": [
    "def p_value_formatter(pval):\n",
    "    if pval==0:\n",
    "        pval = \"0\"\n",
    "    else:\n",
    "        pval = f\"{pval:.2e}\"\n",
    "        pval = pval.replace(\"e\", \"x10\")\n",
    "        # base, exponent = pval.split(\"^\")\n",
    "        # pval = f\"{base}$^{{{exponent}}}$\"\n",
    "        # #pval = f\"{base}$^{exponent}$\"\n",
    "    return pval\n",
    "\n",
    "most_del_sig_meta_res_df[\"formatted_beta\"] = most_del_sig_meta_res_df.beta.apply(lambda x: f\"{x:.2f}\")\n",
    "most_del_sig_meta_res_df[\"formatted_ci\"] = \"(\" + most_del_sig_meta_res_df.ci_low.apply(lambda x: f\"{x:.2f}\") + \", \" + most_del_sig_meta_res_df.ci_high.apply(lambda x: f\"{x:.2f}\") + \")\"\n",
    "most_del_sig_meta_res_df[\"formatted_se\"] = most_del_sig_meta_res_df.se.apply(lambda x: f\"{x:.2f}\")\n",
    "most_del_sig_meta_res_df[\"formatted_z_score\"] = most_del_sig_meta_res_df.z_score.apply(lambda x: f\"{x:.2f}\")\n",
    "most_del_sig_meta_res_df[\"formatted_p_value\"] = most_del_sig_meta_res_df.p_value.apply(p_value_formatter)\n",
    "most_del_sig_meta_res_df[\"Beta (95% CI)\"] = most_del_sig_meta_res_df.apply(lambda ser: f\"{ser.formatted_beta} {ser.formatted_ci}\", axis=1)"
   ]
  },
  {
   "cell_type": "code",
   "execution_count": 25,
   "metadata": {},
   "outputs": [
    {
     "data": {
      "image/png": "[encoded data removed]",
      "text/plain": [
       "<Figure size 350x400 with 2 Axes>"
      ]
     },
     "metadata": {},
     "output_type": "display_data"
    }
   ],
   "source": [
    "f = create_forestplot(most_del_sig_meta_res_df, most_del_sig_meta_df.gene.unique(),\n",
    "    labels_col=\"gene\", effect_sizes_col=\"beta\", ci_low_col=\"ci_low\", ci_high_col=\"ci_high\",\n",
    "    stats_cols=[\"Beta (95% CI)\", \"formatted_p_value\"]\n",
    ")"
   ]
  },
  {
   "cell_type": "code",
   "execution_count": 26,
   "metadata": {},
   "outputs": [],
   "source": [
    "def save_pdf(save_file, fig):\n",
    "    os.makedirs(os.path.dirname(save_file), exist_ok=True)\n",
    "    pdf = PdfPages(save_file)\n",
    "    pdf.savefig(fig, bbox_inches='tight',dpi=300)\n",
    "    pdf.close()\n",
    "    return"
   ]
  },
  {
   "cell_type": "code",
   "execution_count": 27,
   "metadata": {},
   "outputs": [],
   "source": [
    "save_pdf(os.path.join(PROJECT_DIR, \"data/pgs_interaction/pgs_interaction.pdf\"), f)"
   ]
  },
  {
   "cell_type": "markdown",
   "metadata": {},
   "source": [
    "# Supplementary Table"
   ]
  },
  {
   "cell_type": "code",
   "execution_count": 5,
   "metadata": {},
   "outputs": [],
   "source": [
    "PROJECT_DIR = \"/Users/deeprobanerjee/Documents/bmi_project/BMI_monogenic\""
   ]
  },
  {
   "cell_type": "code",
   "execution_count": 6,
   "metadata": {},
   "outputs": [],
   "source": [
    "import pandas as pd\n",
    "import os"
   ]
  },
  {
   "cell_type": "code",
   "execution_count": 9,
   "metadata": {},
   "outputs": [],
   "source": [
    "aou_df = pd.read_csv(os.path.join(PROJECT_DIR, \"data/pgs_interaction/pgs_int_examples_aou.csv\"), index_col=0)\n",
    "ukb_df = pd.read_csv(os.path.join(PROJECT_DIR, \"data/pgs_interaction/pgs_int_examples_ukb.csv\"), index_col=0)"
   ]
  },
  {
   "cell_type": "code",
   "execution_count": 20,
   "metadata": {},
   "outputs": [],
   "source": [
    "aou_df[\"biobank\"] = \"aou\"\n",
    "ukb_df[\"biobank\"] = \"ukb\"\n",
    "pgs_cat_df = pd.concat([aou_df, ukb_df])\n",
    "pgs_cat_df[\"prs_cat\"] = pgs_cat_df.prs_cat + 1\n",
    "stats_cols = [\"mean_bmi_carrier\", \"mean_bmi_noncarrier\", \"ncarrier\", \"nnoncarrier\", \"t_stat\", \"p_value\"]\n",
    "pgs_cat_df = pgs_cat_df.pivot(columns=\"biobank\", index=\"prs_cat\", values=stats_cols)\n",
    "pgs_cat_df.columns = pd.MultiIndex.from_tuples(\n",
    "        [(g, stat) for stat, g in pgs_cat_df.columns],\n",
    "        names=[\"Biobank\", \"Statistic\"]\n",
    "    )"
   ]
  },
  {
   "cell_type": "code",
   "execution_count": 22,
   "metadata": {},
   "outputs": [],
   "source": [
    "pgs_cat_df.loc[:, [(b, s) for b in [\"ukb\", \"aou\"] for s in stats_cols]].to_excel(os.path.join(PROJECT_DIR, \"data/pgs_interaction/bmi_by_pgs_cat.xlsx\"))\n"
   ]
  },
  {
   "cell_type": "code",
   "execution_count": null,
   "metadata": {},
   "outputs": [],
   "source": []
  }
 ],
 "metadata": {
  "kernelspec": {
   "display_name": "analysis",
   "language": "python",
   "name": "python3"
  },
  "language_info": {
   "codemirror_mode": {
    "name": "ipython",
    "version": 3
   },
   "file_extension": ".py",
   "mimetype": "text/x-python",
   "name": "python",
   "nbconvert_exporter": "python",
   "pygments_lexer": "ipython3",
   "version": "3.10.12"
  }
 },
 "nbformat": 4,
 "nbformat_minor": 2
}
