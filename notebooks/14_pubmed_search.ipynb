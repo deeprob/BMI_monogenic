{
 "cells": [
  {
   "cell_type": "code",
   "execution_count": 2,
   "metadata": {},
   "outputs": [],
   "source": [
    "import time\n",
    "import pandas as pd\n",
    "from pymed import PubMed"
   ]
  },
  {
   "cell_type": "code",
   "execution_count": 2,
   "metadata": {},
   "outputs": [],
   "source": [
    "meta_df = pd.read_excel(\"../data/meta/monogenic_meta.xlsx\")\n",
    "meta_genes = list(set(meta_df.ID.str.split(\".\", expand=True).iloc[:, 0]))"
   ]
  },
  {
   "cell_type": "code",
   "execution_count": 2,
   "metadata": {},
   "outputs": [],
   "source": [
    "def get_genewise_literature(gene_name):\n",
    "    query = f\"({gene_name}[Title/Abstract]) AND (Obesity[Text Word])\"\n",
    "    results = pubmed.query(query, max_results=50)\n",
    "    PMIDs = []\n",
    "    for r in results:\n",
    "        PMIDs.append(r.pubmed_id.split(\"\\n\")[0])\n",
    "    return PMIDs"
   ]
  },
  {
   "cell_type": "code",
   "execution_count": 3,
   "metadata": {},
   "outputs": [],
   "source": [
    "pubmed = PubMed(tool=\"MyTool\", email=\"my@email.address\")"
   ]
  },
  {
   "cell_type": "code",
   "execution_count": 5,
   "metadata": {},
   "outputs": [],
   "source": [
    "data_dict = {\"gene\": [], \"PMIDs\": [], \"nrefs\": []}\n",
    "\n",
    "for gene in meta_genes:\n",
    "    pmids = get_genewise_literature(gene)\n",
    "    data_dict[\"gene\"].append(gene)\n",
    "    if len(pmids)>10:\n",
    "        data_dict[\"PMIDs\"].append(\">10\")\n",
    "        data_dict[\"nrefs\"].append(len(pmids))\n",
    "    else:\n",
    "        data_dict[\"PMIDs\"].append(\",\".join(pmids))\n",
    "        data_dict[\"nrefs\"].append(len(pmids))\n",
    "    time.sleep(1)"
   ]
  },
  {
   "cell_type": "code",
   "execution_count": 6,
   "metadata": {},
   "outputs": [],
   "source": [
    "df = pd.DataFrame(data_dict)"
   ]
  },
  {
   "cell_type": "code",
   "execution_count": 7,
   "metadata": {},
   "outputs": [],
   "source": [
    "df.to_excel(\"../data/manual_lit/pubmed_search.xlsx\", index=False)"
   ]
  },
  {
   "cell_type": "code",
   "execution_count": 3,
   "metadata": {},
   "outputs": [],
   "source": [
    "df = pd.read_excel(\"../data/manual_lit/pubmed_search.xlsx\")"
   ]
  },
  {
   "cell_type": "code",
   "execution_count": null,
   "metadata": {},
   "outputs": [],
   "source": []
  }
 ],
 "metadata": {
  "kernelspec": {
   "display_name": "analysis",
   "language": "python",
   "name": "python3"
  },
  "language_info": {
   "codemirror_mode": {
    "name": "ipython",
    "version": 3
   },
   "file_extension": ".py",
   "mimetype": "text/x-python",
   "name": "python",
   "nbconvert_exporter": "python",
   "pygments_lexer": "ipython3",
   "version": "3.10.12"
  }
 },
 "nbformat": 4,
 "nbformat_minor": 2
}
