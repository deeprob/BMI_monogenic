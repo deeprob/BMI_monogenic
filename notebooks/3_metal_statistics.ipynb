{
 "cells": [
  {
   "cell_type": "code",
   "execution_count": 1,
   "metadata": {},
   "outputs": [],
   "source": [
    "import pandas as pd\n",
    "import numpy as np\n",
    "import re\n",
    "import itertools as it\n",
    "import os"
   ]
  },
  {
   "cell_type": "markdown",
   "metadata": {},
   "source": [
    "# METAL RUNS\n",
    "\n",
    "```bash\n",
    "# all ancestry\n",
    "cd /Users/deeprobanerjee/Documents/bmi_project/BMI_monogenic/data/metal/all_ancestry\n",
    "/Users/deeprobanerjee/Documents/bmi_project/BMI_monogenic/data/metal/METAL/build/bin/metal\n",
    "SOURCE /Users/deeprobanerjee/Documents/bmi_project/BMI_monogenic/data/metal/all_ancestry/metal_run.sh\n",
    "\n",
    "# eur\n",
    "cd /Users/deeprobanerjee/Documents/bmi_project/BMI_monogenic/data/metal/eur\n",
    "/Users/deeprobanerjee/Documents/bmi_project/BMI_monogenic/data/metal/METAL/build/bin/metal\n",
    "SOURCE /Users/deeprobanerjee/Documents/bmi_project/BMI_monogenic/data/metal/eur/metal_run_eur.sh\n",
    "\n",
    "# non eur\n",
    "cd /Users/deeprobanerjee/Documents/bmi_project/BMI_monogenic/data/metal/noneur\n",
    "/Users/deeprobanerjee/Documents/bmi_project/BMI_monogenic/data/metal/METAL/build/bin/metal\n",
    "SOURCE /Users/deeprobanerjee/Documents/bmi_project/BMI_monogenic/data/metal/noneur/metal_run_noneur.sh\n",
    "\n",
    "```"
   ]
  },
  {
   "cell_type": "code",
   "execution_count": 2,
   "metadata": {},
   "outputs": [],
   "source": [
    "def get_most_deleterious_idx(ser):\n",
    "    all_masks = set(ser.unique())\n",
    "    most_del = \"Missense_lenient\"\n",
    "    if \"pLoF\" in all_masks:\n",
    "        most_del = \"pLoF\"\n",
    "    elif \"Missense_strict\" in all_masks:\n",
    "        most_del = \"Missense_strict\"\n",
    "    most_del_idx = ser.loc[ser==most_del].index[0]\n",
    "    return most_del_idx\n"
   ]
  },
  {
   "cell_type": "code",
   "execution_count": 3,
   "metadata": {},
   "outputs": [],
   "source": [
    "PROJECT_DIR = \"/Users/deeprobanerjee/Documents/bmi_project/BMI_monogenic\"\n",
    "filename = os.path.join(PROJECT_DIR, \"data/meta/results/all_ancestry/ivw_fixed/bmi_rint_monogenic_meta.tsv\")\n",
    "sig_meta_res_df = pd.read_csv(filename, sep=\"\\t\")\n"
   ]
  },
  {
   "cell_type": "code",
   "execution_count": 4,
   "metadata": {},
   "outputs": [],
   "source": [
    "most_del_sig_meta_df = sig_meta_res_df.loc[sig_meta_res_df.groupby(\"gene\")[\"gene_mask\"].apply(get_most_deleterious_idx)].sort_values(\"p_value\").reset_index(drop=True)\n"
   ]
  },
  {
   "cell_type": "code",
   "execution_count": 5,
   "metadata": {},
   "outputs": [],
   "source": [
    "def get_metal_stats(filename, markers):\n",
    "    metal_df = pd.read_csv(filename, sep=\"\\t\")\n",
    "    metal_df = metal_df.loc[metal_df[\"MarkerName\"].isin(markers), [\"MarkerName\", \"Effect\", \"StdErr\", \"P-value\"]]\n",
    "    metal_df.columns = [\"MarkerName\", \"beta\", \"se\", \"p_value\"]\n",
    "    return metal_df    \n"
   ]
  },
  {
   "cell_type": "code",
   "execution_count": 6,
   "metadata": {},
   "outputs": [],
   "source": [
    "metal_dir = os.path.join(PROJECT_DIR, \"data/metal/\")\n",
    "analyses = [\"all_ancestry\", \"eur\", \"noneur\"]\n",
    "markers = most_del_sig_meta_df.gene + \"::\" + most_del_sig_meta_df.gene_mask\n",
    "\n",
    "metal_dfs = pd.DataFrame()\n",
    "for analysis in analyses:\n",
    "    metal_filename = os.path.join(metal_dir, analysis, \"METAANALYSIS1.TBL\")\n",
    "    metal_df = get_metal_stats(metal_filename, markers)\n",
    "    metal_df[\"analysis\"] = analysis\n",
    "    metal_dfs = pd.concat([metal_dfs, metal_df])\n"
   ]
  },
  {
   "cell_type": "code",
   "execution_count": 7,
   "metadata": {},
   "outputs": [],
   "source": [
    "metal_dfs[[\"gene\", \"gene_mask\"]] = metal_dfs.MarkerName.str.split(\"::\", expand=True)\n",
    "stats_cols = [\"beta\", \"se\", \"p_value\"]\n",
    "metal_pivot = metal_dfs.pivot(index=\"analysis\", columns=[\"gene\", \"gene_mask\"], values=stats_cols)\n",
    "\n",
    "metal_pivot.columns = pd.MultiIndex.from_tuples(\n",
    "    [(gene, mask, stat) for stat, gene, mask in metal_pivot.columns],\n",
    "    names=[\"Gene\", \"Gene Mask\", \"Statistic\"]\n",
    ")\n",
    "\n",
    "metal_pivot.loc[\n",
    "    [\"eur\", \"noneur\", \"all_ancestry\"], [(g,m,s) for g,m in most_del_sig_meta_df.sort_values(\"beta\", ascending=False).loc[:, [\"gene\", \"gene_mask\"]].values for s in stats_cols]\n",
    "].to_excel(os.path.join(PROJECT_DIR, \"data/metal/bmi_rint_monogenic_meta_metal.xlsx\"))\n"
   ]
  },
  {
   "cell_type": "code",
   "execution_count": null,
   "metadata": {},
   "outputs": [],
   "source": []
  }
 ],
 "metadata": {
  "kernelspec": {
   "display_name": "analysis",
   "language": "python",
   "name": "python3"
  },
  "language_info": {
   "codemirror_mode": {
    "name": "ipython",
    "version": 3
   },
   "file_extension": ".py",
   "mimetype": "text/x-python",
   "name": "python",
   "nbconvert_exporter": "python",
   "pygments_lexer": "ipython3",
   "version": "3.10.12"
  }
 },
 "nbformat": 4,
 "nbformat_minor": 2
}
