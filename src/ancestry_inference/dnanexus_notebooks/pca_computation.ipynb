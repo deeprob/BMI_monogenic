{
 "cells": [
  {
   "cell_type": "code",
   "execution_count": null,
   "metadata": {
    "tags": [],
    "trusted": true
   },
   "outputs": [],
   "source": [
    "from pyspark.sql import SparkSession\n",
    "import hail as hl\n",
    "import os\n",
    "import time\n",
    "import dxpy\n",
    "import logging\n",
    "import pandas as pd\n",
    "import re\n",
    "\n",
    "\n",
    "# Build spark\n",
    "builder = (\n",
    "    SparkSession\n",
    "    .builder\n",
    "    .enableHiveSupport()\n",
    ")\n",
    "spark = builder.getOrCreate()\n",
    "hl.init(sc=spark.sparkContext, idempotent=True)"
   ]
  },
  {
   "cell_type": "markdown",
   "metadata": {
    "tags": []
   },
   "source": [
    "# Read the UKB SNP array data"
   ]
  },
  {
   "cell_type": "code",
   "execution_count": null,
   "metadata": {
    "tags": [],
    "trusted": true
   },
   "outputs": [],
   "source": [
    "snp_data_pre = \"file:///mnt/project/notebooks/snp/liftover/ukb_c1-22_GRCh38_full_analysis_set_plus_decoy_hla_merged\"\n",
    "\n",
    "geno_mt = hl.import_plink(\n",
    "    bed=f'{snp_data_pre}.bed',\n",
    "    bim=f'{snp_data_pre}.bim',\n",
    "    fam=f'{snp_data_pre}.fam',\n",
    "    reference_genome='GRCh38'\n",
    ")"
   ]
  },
  {
   "cell_type": "markdown",
   "metadata": {
    "tags": []
   },
   "source": [
    "# Quality control of UKB data"
   ]
  },
  {
   "cell_type": "code",
   "execution_count": null,
   "metadata": {
    "tags": [],
    "trusted": true
   },
   "outputs": [],
   "source": [
    "geno_sample_qc_file = \"file:///mnt/project/fields/data/sample_qc/sample_qc_info.tsv\"\n",
    "geno_sample_qc_table = hl.import_table(\n",
    "    geno_sample_qc_file,\n",
    ")\n",
    "geno_sample_qc_table = geno_sample_qc_table.key_by(\"sample_names\")\n"
   ]
  },
  {
   "cell_type": "code",
   "execution_count": null,
   "metadata": {
    "tags": [],
    "trusted": true
   },
   "outputs": [],
   "source": [
    "def geno_sample_qc(mt, sample_qc_table):\n",
    "    mt = mt.annotate_cols(sample_qc_ukb=sample_qc_table[mt.s])\n",
    "    mt = mt.filter_cols(\n",
    "        (mt.sample_qc_ukb.sex==mt.sample_qc_ukb.genetic_sex) & \n",
    "        (mt.sample_qc_ukb.sex_chromosome_aneuploidy!=\"Yes\") & \n",
    "        (mt.sample_qc_ukb.genetic_kinship_to_other_participants!=\"Ten or more third-degree relatives identified\")&\n",
    "        (mt.sample_qc_ukb.out_hetz_missing!=\"Yes\")\n",
    "    )\n",
    "    return mt\n"
   ]
  },
  {
   "cell_type": "code",
   "execution_count": null,
   "metadata": {
    "tags": [],
    "trusted": true
   },
   "outputs": [],
   "source": [
    "geno_mt = geno_sample_qc(geno_mt, geno_sample_qc_table)\n"
   ]
  },
  {
   "cell_type": "code",
   "execution_count": null,
   "metadata": {
    "tags": [],
    "trusted": true
   },
   "outputs": [],
   "source": [
    "geno_mt.count()\n"
   ]
  },
  {
   "cell_type": "code",
   "execution_count": null,
   "metadata": {
    "tags": [],
    "trusted": true
   },
   "outputs": [],
   "source": [
    "def geno_variant_qc(mt):\n",
    "    mt = hl.variant_qc(mt)\n",
    "    mt = mt.filter_rows((mt.variant_qc.AF[1]>0.001)&(mt.variant_qc.call_rate>0.99))\n",
    "    return mt\n"
   ]
  },
  {
   "cell_type": "code",
   "execution_count": null,
   "metadata": {
    "tags": [],
    "trusted": true
   },
   "outputs": [],
   "source": [
    "geno_mt = geno_variant_qc(geno_mt)\n"
   ]
  },
  {
   "cell_type": "markdown",
   "metadata": {
    "tags": []
   },
   "source": [
    "# Checkpoint 1"
   ]
  },
  {
   "cell_type": "code",
   "execution_count": null,
   "metadata": {
    "tags": [],
    "trusted": true
   },
   "outputs": [],
   "source": [
    "# checkpoint save\n",
    "# Create database in DNAX\n",
    "db_name = f\"ancestry_inference\"\n",
    "stmt = f\"CREATE DATABASE IF NOT EXISTS {db_name} LOCATION 'dnax://'\"\n",
    "print(stmt)\n",
    "spark.sql(stmt).show()\n",
    "\n",
    "# Find database ID of newly created database using dxpy method\n",
    "db_uri = dxpy.find_one_data_object(name=f\"{db_name}\".lower(), classname=\"database\")['id']\n",
    "mt_name = f\"geno_filtered.mt\"\n",
    "url = f\"dnax://{db_uri}/{mt_name}\"\n"
   ]
  },
  {
   "cell_type": "code",
   "execution_count": null,
   "metadata": {
    "tags": [],
    "trusted": true
   },
   "outputs": [],
   "source": [
    "RERUN=False\n",
    "if RERUN:\n",
    "    geno_mt.write(url, overwrite=True)"
   ]
  },
  {
   "cell_type": "code",
   "execution_count": null,
   "metadata": {
    "tags": [],
    "trusted": true
   },
   "outputs": [],
   "source": [
    "geno_mt = hl.read_matrix_table(url)"
   ]
  },
  {
   "cell_type": "code",
   "execution_count": null,
   "metadata": {
    "tags": [],
    "trusted": true
   },
   "outputs": [],
   "source": [
    "geno_mt.count()"
   ]
  },
  {
   "cell_type": "markdown",
   "metadata": {
    "jp-MarkdownHeadingCollapsed": true,
    "tags": []
   },
   "source": [
    "# Get the gnomad hgdp 1kg sample data using hail load dataset\n",
    "All dataset info is present here: https://hail.is/docs/0.2/datasets.html"
   ]
  },
  {
   "cell_type": "code",
   "execution_count": null,
   "metadata": {
    "tags": [],
    "trusted": true
   },
   "outputs": [],
   "source": [
    "ref_mt = hl.experimental.load_dataset(\n",
    "    name=\"gnomad_hgdp_1kg_subset_dense\",\n",
    "    version=\"3.1.2\",\n",
    "    reference_genome='GRCh38',\n",
    "    region='us',\n",
    "    cloud='aws'\n",
    ")\n"
   ]
  },
  {
   "cell_type": "markdown",
   "metadata": {
    "jp-MarkdownHeadingCollapsed": true,
    "tags": []
   },
   "source": [
    "# Only keep the sites in ref which are observed in the SNP array data"
   ]
  },
  {
   "cell_type": "code",
   "execution_count": null,
   "metadata": {
    "tags": [],
    "trusted": true
   },
   "outputs": [],
   "source": [
    "# only keep variants found in geno table\n",
    "ref_mt = ref_mt.filter_rows(hl.is_defined(geno_mt.rows()[ref_mt.row_key]))"
   ]
  },
  {
   "cell_type": "markdown",
   "metadata": {
    "jp-MarkdownHeadingCollapsed": true,
    "tags": []
   },
   "source": [
    "# Checkpoint 2"
   ]
  },
  {
   "cell_type": "code",
   "execution_count": null,
   "metadata": {
    "tags": [],
    "trusted": true
   },
   "outputs": [],
   "source": [
    "# checkpoint save\n",
    "# Create database in DNAX\n",
    "db_name = f\"ancestry_inference\"\n",
    "stmt = f\"CREATE DATABASE IF NOT EXISTS {db_name} LOCATION 'dnax://'\"\n",
    "print(stmt)\n",
    "spark.sql(stmt).show()\n",
    "\n",
    "# Find database ID of newly created database using dxpy method\n",
    "db_uri = dxpy.find_one_data_object(name=f\"{db_name}\".lower(), classname=\"database\")['id']\n",
    "mt_name = f\"ref_overlap_unfiltered.mt\"\n",
    "url = f\"dnax://{db_uri}/{mt_name}\"\n"
   ]
  },
  {
   "cell_type": "code",
   "execution_count": null,
   "metadata": {
    "tags": [],
    "trusted": true
   },
   "outputs": [],
   "source": [
    "RERUN=False\n",
    "if RERUN:\n",
    "    ref_mt.write(url, overwrite=True)"
   ]
  },
  {
   "cell_type": "code",
   "execution_count": null,
   "metadata": {
    "tags": [],
    "trusted": true
   },
   "outputs": [],
   "source": [
    "ref_mt = hl.read_matrix_table(url)"
   ]
  },
  {
   "cell_type": "code",
   "execution_count": null,
   "metadata": {
    "tags": [],
    "trusted": true
   },
   "outputs": [],
   "source": [
    "ref_mt.count()"
   ]
  },
  {
   "cell_type": "markdown",
   "metadata": {
    "jp-MarkdownHeadingCollapsed": true,
    "tags": []
   },
   "source": [
    "# Quality control of reference data"
   ]
  },
  {
   "cell_type": "code",
   "execution_count": null,
   "metadata": {
    "tags": [],
    "trusted": true
   },
   "outputs": [],
   "source": [
    "def ref_sample_qc(mt):\n",
    "    # only keep samples which have gnomad high quality and are not related\n",
    "    mt = mt.filter_cols(\n",
    "        (mt.high_quality==True) & \n",
    "        (mt.relatedness_inference.related==False) & \n",
    "        (mt.gnomad_high_quality==True)\n",
    "    )\n",
    "    return mt\n",
    "\n",
    "def ref_variant_qc(mt):\n",
    "    mt = hl.variant_qc(mt)\n",
    "    mt = mt.filter_rows((mt.variant_qc.AF[1]>0.001)&(mt.variant_qc.call_rate>0.99))\n",
    "    mt = mt.filter_rows((mt.locus.contig==\"chrX\")|(mt.locus.contig==\"chrY\"), keep=False)\n",
    "    return mt\n",
    "\n",
    "def ref_ld_prune(mt):\n",
    "    pruned_variant_table = hl.ld_prune(mt.GT, r2=0.1)\n",
    "    mt = mt.filter_rows(hl.is_defined(pruned_variant_table[mt.row_key]))\n",
    "    return mt"
   ]
  },
  {
   "cell_type": "code",
   "execution_count": null,
   "metadata": {
    "tags": [],
    "trusted": true
   },
   "outputs": [],
   "source": [
    "ref_mt = ref_sample_qc(ref_mt)"
   ]
  },
  {
   "cell_type": "code",
   "execution_count": null,
   "metadata": {
    "tags": [],
    "trusted": true
   },
   "outputs": [],
   "source": [
    "ref_mt.count()"
   ]
  },
  {
   "cell_type": "code",
   "execution_count": null,
   "metadata": {
    "tags": [],
    "trusted": true
   },
   "outputs": [],
   "source": [
    "ref_mt = ref_variant_qc(ref_mt)"
   ]
  },
  {
   "cell_type": "code",
   "execution_count": null,
   "metadata": {
    "tags": [],
    "trusted": true
   },
   "outputs": [],
   "source": [
    "ref_mt.count()"
   ]
  },
  {
   "cell_type": "code",
   "execution_count": null,
   "metadata": {
    "tags": [],
    "trusted": true
   },
   "outputs": [],
   "source": [
    "ref_mt = ref_ld_prune(ref_mt)"
   ]
  },
  {
   "cell_type": "code",
   "execution_count": null,
   "metadata": {
    "tags": [],
    "trusted": true
   },
   "outputs": [],
   "source": [
    "ref_mt.count()"
   ]
  },
  {
   "cell_type": "markdown",
   "metadata": {
    "jp-MarkdownHeadingCollapsed": true,
    "tags": []
   },
   "source": [
    "# Checkpoint 3"
   ]
  },
  {
   "cell_type": "code",
   "execution_count": null,
   "metadata": {
    "tags": [],
    "trusted": true
   },
   "outputs": [],
   "source": [
    "# checkpoint save\n",
    "# Create database in DNAX\n",
    "db_name = f\"ancestry_inference\"\n",
    "stmt = f\"CREATE DATABASE IF NOT EXISTS {db_name} LOCATION 'dnax://'\"\n",
    "print(stmt)\n",
    "spark.sql(stmt).show()\n",
    "\n",
    "db_uri = dxpy.find_one_data_object(name=f\"{db_name}\".lower(), classname=\"database\")['id']\n",
    "mt_name = f\"ref_overlap_filtered.mt\"\n",
    "url = f\"dnax://{db_uri}/{mt_name}\"\n"
   ]
  },
  {
   "cell_type": "code",
   "execution_count": null,
   "metadata": {
    "tags": [],
    "trusted": true
   },
   "outputs": [],
   "source": [
    "RERUN=False\n",
    "if RERUN:\n",
    "    ref_mt.write(url, overwrite=True)"
   ]
  },
  {
   "cell_type": "code",
   "execution_count": null,
   "metadata": {
    "tags": [],
    "trusted": true
   },
   "outputs": [],
   "source": [
    "ref_mt = hl.read_matrix_table(url)"
   ]
  },
  {
   "cell_type": "code",
   "execution_count": null,
   "metadata": {
    "tags": [],
    "trusted": true
   },
   "outputs": [],
   "source": [
    "ref_mt.count()"
   ]
  },
  {
   "cell_type": "markdown",
   "metadata": {
    "tags": []
   },
   "source": [
    "# Overlap geno final"
   ]
  },
  {
   "cell_type": "code",
   "execution_count": null,
   "metadata": {
    "tags": [],
    "trusted": true
   },
   "outputs": [],
   "source": [
    "# only keep variants found in reference table\n",
    "geno_mt = geno_mt.filter_rows(hl.is_defined(ref_mt.rows()[geno_mt.row_key]))"
   ]
  },
  {
   "cell_type": "markdown",
   "metadata": {
    "tags": []
   },
   "source": [
    "# Checkpoint 4"
   ]
  },
  {
   "cell_type": "code",
   "execution_count": null,
   "metadata": {
    "tags": [],
    "trusted": true
   },
   "outputs": [],
   "source": [
    "# checkpoint save\n",
    "# Create database in DNAX\n",
    "db_name = f\"ancestry_inference\"\n",
    "stmt = f\"CREATE DATABASE IF NOT EXISTS {db_name} LOCATION 'dnax://'\"\n",
    "print(stmt)\n",
    "spark.sql(stmt).show()\n",
    "\n",
    "db_uri = dxpy.find_one_data_object(name=f\"{db_name}\".lower(), classname=\"database\")['id']\n",
    "mt_name = f\"geno_overlap_filtered.mt\"\n",
    "url = f\"dnax://{db_uri}/{mt_name}\"\n"
   ]
  },
  {
   "cell_type": "code",
   "execution_count": null,
   "metadata": {
    "tags": [],
    "trusted": true
   },
   "outputs": [],
   "source": [
    "RERUN=False\n",
    "if RERUN:\n",
    "    geno_mt.write(url, overwrite=True)\n",
    "    "
   ]
  },
  {
   "cell_type": "code",
   "execution_count": null,
   "metadata": {
    "tags": [],
    "trusted": true
   },
   "outputs": [],
   "source": [
    "geno_mt = hl.read_matrix_table(url)"
   ]
  },
  {
   "cell_type": "code",
   "execution_count": null,
   "metadata": {
    "tags": [],
    "trusted": true
   },
   "outputs": [],
   "source": [
    "geno_mt.count()"
   ]
  },
  {
   "cell_type": "markdown",
   "metadata": {
    "tags": []
   },
   "source": [
    "# Overlap ref final"
   ]
  },
  {
   "cell_type": "code",
   "execution_count": null,
   "metadata": {
    "tags": [],
    "trusted": true
   },
   "outputs": [],
   "source": [
    "# only keep variants found in geno table\n",
    "ref_mt = ref_mt.filter_rows(hl.is_defined(geno_mt.rows()[ref_mt.row_key]))"
   ]
  },
  {
   "cell_type": "markdown",
   "metadata": {
    "tags": []
   },
   "source": [
    "# Checkpoint 5"
   ]
  },
  {
   "cell_type": "code",
   "execution_count": null,
   "metadata": {
    "tags": [],
    "trusted": true
   },
   "outputs": [],
   "source": [
    "# checkpoint save\n",
    "# Create database in DNAX\n",
    "db_name = f\"ancestry_inference\"\n",
    "stmt = f\"CREATE DATABASE IF NOT EXISTS {db_name} LOCATION 'dnax://'\"\n",
    "print(stmt)\n",
    "spark.sql(stmt).show()\n",
    "\n",
    "db_uri = dxpy.find_one_data_object(name=f\"{db_name}\".lower(), classname=\"database\")['id']\n",
    "mt_name = f\"ref_overlapped_filtered.mt\"\n",
    "url = f\"dnax://{db_uri}/{mt_name}\"\n"
   ]
  },
  {
   "cell_type": "code",
   "execution_count": null,
   "metadata": {
    "tags": [],
    "trusted": true
   },
   "outputs": [],
   "source": [
    "RERUN=False\n",
    "if RERUN:\n",
    "    ref_mt.write(url, overwrite=True)\n",
    "    "
   ]
  },
  {
   "cell_type": "code",
   "execution_count": null,
   "metadata": {
    "tags": [],
    "trusted": true
   },
   "outputs": [],
   "source": [
    "ref_mt = hl.read_matrix_table(url)"
   ]
  },
  {
   "cell_type": "code",
   "execution_count": null,
   "metadata": {
    "tags": [],
    "trusted": true
   },
   "outputs": [],
   "source": [
    "ref_mt.count()"
   ]
  },
  {
   "cell_type": "markdown",
   "metadata": {
    "tags": []
   },
   "source": [
    "# PCA calculation and projection"
   ]
  },
  {
   "cell_type": "code",
   "execution_count": null,
   "metadata": {
    "tags": [],
    "trusted": true
   },
   "outputs": [],
   "source": [
    "# Compute loadings and allele frequency for reference dataset\n",
    "\n",
    "eigenvalues, scores, loadings_ht = hl.hwe_normalized_pca(ref_mt.GT, k=20, compute_loadings=True)   \n",
    "\n",
    "ref_mt = ref_mt.annotate_rows(af=hl.agg.mean(ref_mt.GT.n_alt_alleles()) / 2)                \n",
    "\n",
    "loadings_ht = loadings_ht.annotate(af=ref_mt.rows()[loadings_ht.key].af)            \n"
   ]
  },
  {
   "cell_type": "markdown",
   "metadata": {
    "tags": []
   },
   "source": [
    "# Save PCA and ancestry for ref "
   ]
  },
  {
   "cell_type": "code",
   "execution_count": null,
   "metadata": {
    "tags": [],
    "trusted": true
   },
   "outputs": [],
   "source": [
    "scores = scores.annotate(ancestry_pred=ref_mt.cols()[scores.s].gnomad_population_inference.pop)"
   ]
  },
  {
   "cell_type": "code",
   "execution_count": null,
   "metadata": {
    "tags": [],
    "trusted": true
   },
   "outputs": [],
   "source": [
    "def upload_file_to_project(filename, proj_dir):\n",
    "    dxpy.upload_local_file(filename, folder=proj_dir, parents=True)\n",
    "    print(f\"*********{filename} uploaded!!*********\")\n",
    "    return"
   ]
  },
  {
   "cell_type": "code",
   "execution_count": null,
   "metadata": {
    "tags": [],
    "trusted": true
   },
   "outputs": [],
   "source": [
    "ref_pca_df = scores.to_pandas()\n"
   ]
  },
  {
   "cell_type": "code",
   "execution_count": null,
   "metadata": {
    "tags": [],
    "trusted": true
   },
   "outputs": [],
   "source": [
    "ref_pca_df.head()\n"
   ]
  },
  {
   "cell_type": "code",
   "execution_count": null,
   "metadata": {
    "tags": [],
    "trusted": true
   },
   "outputs": [],
   "source": [
    "ref_pca_df[[f\"pca_{i}\" for i in range(1, 21)]] = pd.DataFrame(ref_pca_df.scores.tolist(), index= ref_pca_df.index)"
   ]
  },
  {
   "cell_type": "code",
   "execution_count": null,
   "metadata": {
    "tags": [],
    "trusted": true
   },
   "outputs": [],
   "source": [
    "ref_pca_df = ref_pca_df.drop(columns=[\"scores\"])"
   ]
  },
  {
   "cell_type": "code",
   "execution_count": null,
   "metadata": {
    "tags": [],
    "trusted": true
   },
   "outputs": [],
   "source": [
    "proj_dir = f\"/notebooks/ancestry_inference/data/\"\n",
    "filename = \"ref_pca.csv.gz\"\n",
    "ref_pca_df.to_csv(filename, index=False)\n",
    "upload_file_to_project(filename, proj_dir)\n"
   ]
  },
  {
   "cell_type": "markdown",
   "metadata": {},
   "source": [
    "# Save PCA projections for geno"
   ]
  },
  {
   "cell_type": "code",
   "execution_count": null,
   "metadata": {
    "tags": [],
    "trusted": true
   },
   "outputs": [],
   "source": [
    "# checkpoint save\n",
    "# Create database in DNAX\n",
    "db_name = f\"ancestry_inference\"\n",
    "stmt = f\"CREATE DATABASE IF NOT EXISTS {db_name} LOCATION 'dnax://'\"\n",
    "print(stmt)\n",
    "spark.sql(stmt).show()\n",
    "\n",
    "db_uri = dxpy.find_one_data_object(name=f\"{db_name}\".lower(), classname=\"database\")['id']\n",
    "mt_name = f\"pca_loadings.ht\"\n",
    "url = f\"dnax://{db_uri}/{mt_name}\"\n"
   ]
  },
  {
   "cell_type": "code",
   "execution_count": null,
   "metadata": {
    "tags": [],
    "trusted": true
   },
   "outputs": [],
   "source": [
    "RERUN=False\n",
    "if RERUN:\n",
    "    loadings_ht.write(url, overwrite=True)\n"
   ]
  },
  {
   "cell_type": "code",
   "execution_count": null,
   "metadata": {
    "tags": [],
    "trusted": true
   },
   "outputs": [],
   "source": [
    "loadings_ht = hl.read_table(url)"
   ]
  },
  {
   "cell_type": "code",
   "execution_count": null,
   "metadata": {
    "tags": [],
    "trusted": true
   },
   "outputs": [],
   "source": [
    "loadings_ht.describe()"
   ]
  },
  {
   "cell_type": "code",
   "execution_count": null,
   "metadata": {
    "tags": [],
    "trusted": true
   },
   "outputs": [],
   "source": [
    "# Project new genotypes onto loadings\n",
    "\n",
    "ht = hl.experimental.pc_project(geno_mt.GT, loadings_ht.loadings, loadings_ht.af)"
   ]
  },
  {
   "cell_type": "code",
   "execution_count": null,
   "metadata": {
    "tags": [],
    "trusted": true
   },
   "outputs": [],
   "source": [
    "ht.describe()"
   ]
  },
  {
   "cell_type": "code",
   "execution_count": null,
   "metadata": {
    "tags": [],
    "trusted": true
   },
   "outputs": [],
   "source": [
    "geno_mt.count()"
   ]
  },
  {
   "cell_type": "code",
   "execution_count": null,
   "metadata": {
    "tags": [],
    "trusted": true
   },
   "outputs": [],
   "source": [
    "# checkpoint save\n",
    "# Create database in DNAX\n",
    "db_name = f\"ancestry_inference\"\n",
    "stmt = f\"CREATE DATABASE IF NOT EXISTS {db_name} LOCATION 'dnax://'\"\n",
    "print(stmt)\n",
    "spark.sql(stmt).show()\n",
    "\n",
    "db_uri = dxpy.find_one_data_object(name=f\"{db_name}\".lower(), classname=\"database\")['id']\n",
    "mt_name = f\"geno_sample_pca.ht\"\n",
    "url = f\"dnax://{db_uri}/{mt_name}\"\n"
   ]
  },
  {
   "cell_type": "code",
   "execution_count": null,
   "metadata": {
    "collapsed": true,
    "jupyter": {
     "outputs_hidden": true
    },
    "tags": [],
    "trusted": true
   },
   "outputs": [],
   "source": [
    "RERUN=True\n",
    "if RERUN:\n",
    "    ht.write(url, overwrite=True)\n"
   ]
  },
  {
   "cell_type": "code",
   "execution_count": null,
   "metadata": {
    "tags": [],
    "trusted": true
   },
   "outputs": [],
   "source": [
    "ht = hl.read_table(url)"
   ]
  },
  {
   "cell_type": "code",
   "execution_count": null,
   "metadata": {
    "tags": [],
    "trusted": true
   },
   "outputs": [],
   "source": [
    "geno_pca_df = ht.to_pandas()"
   ]
  },
  {
   "cell_type": "code",
   "execution_count": null,
   "metadata": {
    "tags": [],
    "trusted": true
   },
   "outputs": [],
   "source": [
    "geno_pca_df[[f\"pca_{i}\" for i in range(1, 21)]] = pd.DataFrame(geno_pca_df.scores.tolist(), index= geno_pca_df.index)\n"
   ]
  },
  {
   "cell_type": "code",
   "execution_count": null,
   "metadata": {
    "tags": [],
    "trusted": true
   },
   "outputs": [],
   "source": [
    "geno_pca_df = geno_pca_df.drop(columns=[\"scores\"])\n"
   ]
  },
  {
   "cell_type": "code",
   "execution_count": null,
   "metadata": {
    "tags": [],
    "trusted": true
   },
   "outputs": [],
   "source": [
    "proj_dir = f\"/notebooks/ancestry_inference/data/\"\n",
    "filename = \"geno_pca.csv.gz\"\n",
    "ref_pca_df.to_csv(filename, index=False)\n",
    "upload_file_to_project(filename, proj_dir)\n",
    "\n"
   ]
  },
  {
   "cell_type": "code",
   "execution_count": null,
   "metadata": {},
   "outputs": [],
   "source": []
  },
  {
   "cell_type": "code",
   "execution_count": null,
   "metadata": {},
   "outputs": [],
   "source": []
  }
 ],
 "metadata": {
  "kernelspec": {
   "display_name": "Python 3 (ipykernel)",
   "language": "python",
   "name": "python3"
  },
  "language_info": {
   "codemirror_mode": {
    "name": "ipython",
    "version": 3
   },
   "file_extension": ".py",
   "mimetype": "text/x-python",
   "name": "python",
   "nbconvert_exporter": "python",
   "pygments_lexer": "ipython3",
   "version": "3.9.16"
  }
 },
 "nbformat": 4,
 "nbformat_minor": 4
}
