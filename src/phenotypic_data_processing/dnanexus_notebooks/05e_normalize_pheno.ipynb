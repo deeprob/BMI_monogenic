{
 "cells": [
  {
   "cell_type": "code",
   "execution_count": null,
   "metadata": {
    "tags": [],
    "trusted": true
   },
   "outputs": [],
   "source": [
    "import os\n",
    "import dxpy\n",
    "import pandas as pd\n",
    "import numpy as np\n",
    "from scipy.stats import norm"
   ]
  },
  {
   "cell_type": "code",
   "execution_count": null,
   "metadata": {
    "tags": [],
    "trusted": true
   },
   "outputs": [],
   "source": [
    "pheno_df = pd.read_csv(\"/mnt/project/notebooks/bmi/data/pheno.csv.gz\")"
   ]
  },
  {
   "cell_type": "code",
   "execution_count": null,
   "metadata": {
    "tags": [],
    "trusted": true
   },
   "outputs": [],
   "source": [
    "def rint_normalization(ser):\n",
    "    ranks = ser.rank()\n",
    "    normalized = norm.ppf((ranks - 0.5)/ranks.notna().sum())\n",
    "    return normalized"
   ]
  },
  {
   "cell_type": "code",
   "execution_count": null,
   "metadata": {
    "tags": [],
    "trusted": true
   },
   "outputs": [],
   "source": [
    "pheno_df.ancestry_pred.value_counts()"
   ]
  },
  {
   "cell_type": "markdown",
   "metadata": {},
   "source": [
    "# Normalize BMI by ancestry and sex"
   ]
  },
  {
   "cell_type": "code",
   "execution_count": null,
   "metadata": {
    "tags": [],
    "trusted": true
   },
   "outputs": [],
   "source": [
    "pheno_df[\"bmi_rint\"] = pheno_df.groupby([\"ancestry_pred\", \"sex\"])[\"bmi\"].transform(rint_normalization)"
   ]
  },
  {
   "cell_type": "code",
   "execution_count": null,
   "metadata": {
    "tags": [],
    "trusted": true
   },
   "outputs": [],
   "source": [
    "pheno_df.groupby([\"ancestry_pred\", \"sex\"]).agg({\"bmi_rint\": [\"mean\", \"min\", \"max\", len]})"
   ]
  },
  {
   "cell_type": "code",
   "execution_count": null,
   "metadata": {},
   "outputs": [],
   "source": []
  },
  {
   "cell_type": "markdown",
   "metadata": {},
   "source": [
    "# Process covariates\n",
    "\n",
    "- Convert genetic sex to 1 or 0\n",
    "- Create age^2, age x sex\n",
    "- Convert exome batch covariate"
   ]
  },
  {
   "cell_type": "code",
   "execution_count": null,
   "metadata": {
    "tags": [],
    "trusted": true
   },
   "outputs": [],
   "source": [
    "pheno_df[\"genetic_sex\"] = (pheno_df.genetic_sex==\"Female\").astype(int)\n",
    "pheno_df[\"age_2\"] = pheno_df.age**2\n",
    "pheno_df[\"age_sex\"] = pheno_df.age*pheno_df.genetic_sex\n",
    "pheno_df[\"exome_release_batch\"] = (pheno_df.exome_release_batch==\"50K Release\").astype(int)"
   ]
  },
  {
   "cell_type": "markdown",
   "metadata": {},
   "source": [
    "# Create ancestry normalized phenotypes and save in regenie format"
   ]
  },
  {
   "cell_type": "code",
   "execution_count": null,
   "metadata": {
    "tags": [],
    "trusted": true
   },
   "outputs": [],
   "source": [
    "def upload_file_to_project(filename, proj_dir):\n",
    "    dxpy.upload_local_file(filename, folder=proj_dir, parents=True)\n",
    "    print(f\"*********{filename} uploaded!!*********\")\n",
    "    return"
   ]
  },
  {
   "cell_type": "code",
   "execution_count": null,
   "metadata": {
    "tags": [],
    "trusted": true
   },
   "outputs": [],
   "source": [
    "def save_files_in_regenie_fmt(\n",
    "    df, proj_dir, save_file, \n",
    "    phenos=['bmi', 'bmi_rint'],\n",
    "    covariates=[\n",
    "        'genetic_sex', 'age', 'age_2', 'age_sex', 'exome_release_batch',\n",
    "        'genetic_pca1', 'genetic_pca2', 'genetic_pca3', 'genetic_pca4', 'genetic_pca5', \n",
    "        'genetic_pca6', 'genetic_pca7', 'genetic_pca8', 'genetic_pca9', 'genetic_pca10'\n",
    "    ],\n",
    "    prs=['bmi_prs'],\n",
    "    lifestyle=['pa', 'alcohol', 'smoke', 'sleep', 'sedentary', 'diet']):\n",
    "    curr_columns = df.columns\n",
    "    df[\"FID\"] = df.sample_names\n",
    "    df[\"IID\"] = df.sample_names\n",
    "    df.loc[:, [\"FID\", \"IID\"]+ phenos + covariates + prs + lifestyle].fillna(\"NA\").to_csv(save_file, index=False, sep=\"\\t\")\n",
    "    upload_file_to_project(save_file, proj_dir)\n",
    "    return"
   ]
  },
  {
   "cell_type": "code",
   "execution_count": null,
   "metadata": {
    "tags": [],
    "trusted": true
   },
   "outputs": [],
   "source": [
    "for ancestry in pheno_df.ancestry_pred.unique():\n",
    "    anc_df = pheno_df.loc[pheno_df.ancestry_pred==ancestry].copy()\n",
    "    proj_dir = \"/notebooks/bmi/data/processed/\"\n",
    "    filename = f\"{ancestry}_phenotype.tsv.gz\"\n",
    "    save_files_in_regenie_fmt(anc_df, proj_dir, filename)"
   ]
  },
  {
   "cell_type": "markdown",
   "metadata": {},
   "source": [
    "# Normalize covariates in europeans"
   ]
  },
  {
   "cell_type": "code",
   "execution_count": null,
   "metadata": {
    "tags": [],
    "trusted": true
   },
   "outputs": [],
   "source": [
    "from sklearn.preprocessing import StandardScaler"
   ]
  },
  {
   "cell_type": "code",
   "execution_count": null,
   "metadata": {
    "tags": [],
    "trusted": true
   },
   "outputs": [],
   "source": [
    "eur_df = pd.read_csv(\"/mnt/project/notebooks/bmi/data/processed/eur_phenotype.tsv.gz\", sep=\"\\t\")"
   ]
  },
  {
   "cell_type": "code",
   "execution_count": null,
   "metadata": {
    "tags": [],
    "trusted": true
   },
   "outputs": [],
   "source": [
    "def normalize_covariates(pheno_df, covariates):\n",
    "    norm_pheno_df = pheno_df.copy()\n",
    "    for cov in covariates:\n",
    "        scaler = StandardScaler()\n",
    "        norm_pheno_df[cov] = scaler.fit_transform(norm_pheno_df.loc[:, [cov]])\n",
    "    return norm_pheno_df\n",
    "\n",
    "def upload_file_to_project(filename, proj_dir):\n",
    "    dxpy.upload_local_file(filename, folder=proj_dir, parents=True)\n",
    "    print(f\"*********{filename} uploaded!!*********\")\n",
    "    return"
   ]
  },
  {
   "cell_type": "code",
   "execution_count": null,
   "metadata": {
    "tags": [],
    "trusted": true
   },
   "outputs": [],
   "source": [
    "# normalized pheno df\n",
    "covariates = [\"age\", \"age_2\", \"age_sex\", \"genetic_sex\", \"bmi_prs\"] + [f\"genetic_pca{i}\" for i in range(1, 11)]\n",
    "norm_eur_df = normalize_covariates(eur_df, covariates + [\"bmi_prs\"])"
   ]
  },
  {
   "cell_type": "code",
   "execution_count": null,
   "metadata": {
    "tags": [],
    "trusted": true
   },
   "outputs": [],
   "source": [
    "proj_dir = \"/notebooks/bmi/data/processed/\"\n",
    "filename = f\"eur_phenotype_norm.tsv.gz\"\n",
    "norm_eur_df.fillna(\"NA\").to_csv(filename, index=False, sep=\"\\t\")\n",
    "upload_file_to_project(filename, proj_dir)\n"
   ]
  },
  {
   "cell_type": "code",
   "execution_count": null,
   "metadata": {},
   "outputs": [],
   "source": []
  }
 ],
 "metadata": {
  "kernelspec": {
   "display_name": "Python 3 (ipykernel)",
   "language": "python",
   "name": "python3"
  },
  "language_info": {
   "codemirror_mode": {
    "name": "ipython",
    "version": 3
   },
   "file_extension": ".py",
   "mimetype": "text/x-python",
   "name": "python",
   "nbconvert_exporter": "python",
   "pygments_lexer": "ipython3",
   "version": "3.11.5"
  }
 },
 "nbformat": 4,
 "nbformat_minor": 4
}
