{
 "cells": [
  {
   "cell_type": "code",
   "execution_count": null,
   "metadata": {
    "tags": [],
    "trusted": true
   },
   "outputs": [],
   "source": [
    "import os\n",
    "import dxpy\n",
    "import numpy as np\n",
    "import pandas as pd"
   ]
  },
  {
   "cell_type": "markdown",
   "metadata": {},
   "source": [
    "# Add gnomad annotations to burden"
   ]
  },
  {
   "cell_type": "code",
   "execution_count": null,
   "metadata": {
    "tags": [],
    "trusted": true
   },
   "outputs": [],
   "source": [
    "burden_df = pd.read_csv(\"/mnt/project/notebooks/wes/burden_preparation/data/ukb_burden.tsv.gz\", sep=\"\\t\")\n",
    "gnomad_df = pd.read_csv(\n",
    "    \"/mnt/project/notebooks/wes/burden_preparation/data/gnomad_annot.tsv.gz\", sep=\"\\t\",\n",
    "    usecols=[\"locus\", \"alleles\", \"maf_gnomad_popmax\"]\n",
    ")\n",
    "burden_df = burden_df.merge(gnomad_df, on=[\"locus\", \"alleles\"])\n",
    "burden_df[\"maf_max\"] = burden_df.apply(lambda ser: max(ser.maf, ser.maf_gnomad_popmax), axis=1)\n"
   ]
  },
  {
   "cell_type": "code",
   "execution_count": null,
   "metadata": {
    "tags": [],
    "trusted": true
   },
   "outputs": [],
   "source": []
  },
  {
   "cell_type": "markdown",
   "metadata": {},
   "source": [
    "# Save REGENIE step 2 helper files"
   ]
  },
  {
   "cell_type": "code",
   "execution_count": null,
   "metadata": {
    "tags": [],
    "trusted": true
   },
   "outputs": [],
   "source": [
    "def keep_most_del(vals):\n",
    "    vals = set(vals)\n",
    "    if \"lof\" in vals:\n",
    "        return \"lof\"\n",
    "    elif \"missense_strict\" in vals:\n",
    "        return \"missense_strict\"\n",
    "    return list(vals)[0]\n",
    "\n",
    "def create_regenie_helper_files(burden_df):\n",
    "    # create annotation df\n",
    "    annot_df = burden_df.loc[:, [\"variants\", \"gene\", \"annotation\"]]\n",
    "    # this gets rid of duplicates due to transcripts of same gene with same consequence\n",
    "    annot_df = annot_df.dropna().drop_duplicates()\n",
    "    # this annotates the same locus for the same gene with the most severe consequence\n",
    "    annot_df =  annot_df.groupby([\"variants\", \"gene\"]).agg({\"annotation\": lambda x: keep_most_del(x)}).reset_index()\n",
    "    # create set list df\n",
    "    set_df = annot_df.groupby(\"gene\").agg({\"variants\": lambda x: \",\".join(x)})\n",
    "    set_df[[\"chrm\", \"location\"]] = set_df.variants.apply(lambda x: pd.Series(dict(zip([\"chrm\", \"location\"], x.split(\",\")[0].split(\":\")[:2]))))\n",
    "    set_df = set_df.reset_index().loc[:, [\"gene\", \"chrm\", \"location\", \"variants\"]]\n",
    "    # create aaf df\n",
    "    aaf_df = burden_df.loc[:, [\"variants\", \"maf_max\"]]\n",
    "    aaf_df = aaf_df.dropna().drop_duplicates()\n",
    "    return annot_df, set_df, aaf_df\n",
    "\n",
    "def upload_file_to_project(filename, proj_dir):\n",
    "    dxpy.upload_local_file(filename, folder=proj_dir, parents=True)\n",
    "    print(f\"*********{filename} uploaded!!*********\")\n",
    "    os.remove(filename)\n",
    "    return"
   ]
  },
  {
   "cell_type": "code",
   "execution_count": null,
   "metadata": {
    "tags": [],
    "trusted": true
   },
   "outputs": [],
   "source": [
    "mask_names = [\"pLoF\", \"Missense_strict\", \"Missense_lenient\"]\n",
    "categories =  [\"lof\", \"lof,missense_strict\", \"lof,missense_strict,missense_lenient\"]\n",
    "\n",
    "annot_df, set_df, aaf_df = create_regenie_helper_files(burden_df)\n",
    "mask_df = pd.DataFrame({\"mask_name\": mask_names, \"categories\": categories})\n",
    "annot_df_name = \"ukb_annotations.tsv.gz\"\n",
    "set_df_name = \"ukb_sets.tsv.gz\"\n",
    "aaf_df_name = \"ukb_aafs.tsv.gz\"\n",
    "mask_df_name = \"ukb_masks.tsv.gz\"\n",
    "proj_dir = \"/notebooks/wes/burden_preparation/data/\"\n",
    "\n",
    "for df, name in zip(\n",
    "    [annot_df, set_df, aaf_df, mask_df],\n",
    "    [annot_df_name, set_df_name, aaf_df_name, mask_df_name]\n",
    "):\n",
    "    df.to_csv(name, sep='\\t', index=False, header=False)\n",
    "    # upload table to project\n",
    "    upload_file_to_project(name, proj_dir)\n"
   ]
  },
  {
   "cell_type": "code",
   "execution_count": null,
   "metadata": {},
   "outputs": [],
   "source": []
  }
 ],
 "metadata": {
  "kernelspec": {
   "display_name": "Python 3 (ipykernel)",
   "language": "python",
   "name": "python3"
  },
  "language_info": {
   "codemirror_mode": {
    "name": "ipython",
    "version": 3
   },
   "file_extension": ".py",
   "mimetype": "text/x-python",
   "name": "python",
   "nbconvert_exporter": "python",
   "pygments_lexer": "ipython3",
   "version": "3.11.5"
  }
 },
 "nbformat": 4,
 "nbformat_minor": 4
}
