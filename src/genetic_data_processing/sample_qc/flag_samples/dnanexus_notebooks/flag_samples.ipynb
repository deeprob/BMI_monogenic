{
 "cells": [
  {
   "cell_type": "code",
   "execution_count": null,
   "metadata": {
    "tags": [],
    "trusted": true
   },
   "outputs": [],
   "source": [
    "import pandas as pd\n",
    "import os\n",
    "import time\n",
    "import dxpy"
   ]
  },
  {
   "cell_type": "code",
   "execution_count": null,
   "metadata": {
    "tags": [],
    "trusted": true
   },
   "outputs": [],
   "source": [
    "sample_qc_annot_file = \"/mnt/project/notebooks/wes/sample_qc/data/sample_qc_annot_all.tsv\"\n",
    "sample_qc_annot_df = pd.read_csv(\n",
    "    sample_qc_annot_file, sep=\"\\t\",\n",
    "    usecols=[\n",
    "        \"s\", \"duplicate\", \"f_stat\", \"survey_sex\", \"array_sex\", \"exome_sex\", \"hetz_concordance_array\",\n",
    "        \"sex_chromosome_aneuploidy\", \"genetic_kinship_to_other_participants\", \"out_hetz_missing\", \n",
    "        \"call_rate\", \"r_ti_tv_residual\", \"r_het_hom_var_residual\", \"r_insertion_deletion_residual\",\n",
    "        \"n_singleton_residual\", \"r_snv_indel_residual\"\n",
    "    ]\n",
    ")"
   ]
  },
  {
   "cell_type": "code",
   "execution_count": null,
   "metadata": {},
   "outputs": [],
   "source": []
  },
  {
   "cell_type": "markdown",
   "metadata": {},
   "source": [
    "# Sample Quality Control metrics to filter on:\n",
    "\n",
    "1. Missing array data\n",
    "2. Duplicates\n",
    "3. Sex concordance  between survey, exome and array\n",
    "4. Heterozygote concordance between high quality exome variants and array calls\n",
    "5. Sex chromosome aneuploidy based on array calls\n",
    "6. Outliers in heterozygosity and missing rates based on array calls\n",
    "7. Exome variant call rate\n",
    "8. Eight SD deviation from mean ancestry normalized\n",
    "    - Transition/transversion ratio\n",
    "    - Insertion/Deletion allele ratio\n",
    "    - Heterozygous/homozygous call ratio\n",
    "    - SNV/indel \n",
    "    - number of singletons"
   ]
  },
  {
   "cell_type": "code",
   "execution_count": null,
   "metadata": {},
   "outputs": [],
   "source": []
  },
  {
   "cell_type": "markdown",
   "metadata": {},
   "source": [
    "# Samples with missing array data"
   ]
  },
  {
   "cell_type": "code",
   "execution_count": null,
   "metadata": {
    "tags": [],
    "trusted": true
   },
   "outputs": [],
   "source": [
    "sample_qc_annot_df[\"missing_array\"] = sample_qc_annot_df.hetz_concordance_array.isna()"
   ]
  },
  {
   "cell_type": "code",
   "execution_count": null,
   "metadata": {
    "tags": [],
    "trusted": true
   },
   "outputs": [],
   "source": [
    "len(sample_qc_annot_df.loc[sample_qc_annot_df.missing_array==True])"
   ]
  },
  {
   "cell_type": "code",
   "execution_count": null,
   "metadata": {},
   "outputs": [],
   "source": []
  },
  {
   "cell_type": "markdown",
   "metadata": {},
   "source": [
    "# Check number of duplicates based on high quality autosomal variants"
   ]
  },
  {
   "cell_type": "code",
   "execution_count": null,
   "metadata": {
    "tags": [],
    "trusted": true
   },
   "outputs": [],
   "source": [
    "len(sample_qc_annot_df.loc[sample_qc_annot_df.duplicate==True])"
   ]
  },
  {
   "cell_type": "code",
   "execution_count": null,
   "metadata": {},
   "outputs": [],
   "source": []
  },
  {
   "cell_type": "markdown",
   "metadata": {},
   "source": [
    "# Check discordant sex from survey, exome and array"
   ]
  },
  {
   "cell_type": "code",
   "execution_count": null,
   "metadata": {
    "tags": [],
    "trusted": true
   },
   "outputs": [],
   "source": [
    "sample_qc_annot_df[\"sex_discordance\"] = ~((sample_qc_annot_df.survey_sex==sample_qc_annot_df.exome_sex)&(sample_qc_annot_df.survey_sex==sample_qc_annot_df.array_sex))\n"
   ]
  },
  {
   "cell_type": "code",
   "execution_count": null,
   "metadata": {
    "tags": [],
    "trusted": true
   },
   "outputs": [],
   "source": [
    "len(sample_qc_annot_df.loc[sample_qc_annot_df.sex_discordance==True])"
   ]
  },
  {
   "cell_type": "code",
   "execution_count": null,
   "metadata": {},
   "outputs": [],
   "source": []
  },
  {
   "cell_type": "markdown",
   "metadata": {},
   "source": [
    "# Heterozygote concordance <80% between high quality exomes and array data"
   ]
  },
  {
   "cell_type": "code",
   "execution_count": null,
   "metadata": {
    "tags": [],
    "trusted": true
   },
   "outputs": [],
   "source": [
    "sample_qc_annot_df[\"array_discordance\"] = sample_qc_annot_df.hetz_concordance_array<0.8"
   ]
  },
  {
   "cell_type": "code",
   "execution_count": null,
   "metadata": {
    "tags": [],
    "trusted": true
   },
   "outputs": [],
   "source": [
    "len(sample_qc_annot_df.loc[sample_qc_annot_df.array_discordance==True])"
   ]
  },
  {
   "cell_type": "code",
   "execution_count": null,
   "metadata": {},
   "outputs": [],
   "source": []
  },
  {
   "cell_type": "markdown",
   "metadata": {},
   "source": [
    "# Sex chromosome aneuploidy"
   ]
  },
  {
   "cell_type": "code",
   "execution_count": null,
   "metadata": {
    "tags": [],
    "trusted": true
   },
   "outputs": [],
   "source": [
    "sample_qc_annot_df[\"sex_chromosome_aneuploidy\"] = sample_qc_annot_df.sex_chromosome_aneuploidy==\"Yes\""
   ]
  },
  {
   "cell_type": "code",
   "execution_count": null,
   "metadata": {
    "tags": [],
    "trusted": true
   },
   "outputs": [],
   "source": [
    "len(sample_qc_annot_df.loc[sample_qc_annot_df.sex_chromosome_aneuploidy==True])"
   ]
  },
  {
   "cell_type": "code",
   "execution_count": null,
   "metadata": {},
   "outputs": [],
   "source": []
  },
  {
   "cell_type": "markdown",
   "metadata": {},
   "source": [
    "# Outliers in heterozygosity or missingness"
   ]
  },
  {
   "cell_type": "code",
   "execution_count": null,
   "metadata": {
    "tags": [],
    "trusted": true
   },
   "outputs": [],
   "source": [
    "sample_qc_annot_df[\"out_hetz_missing\"] = sample_qc_annot_df.out_hetz_missing==\"Yes\""
   ]
  },
  {
   "cell_type": "code",
   "execution_count": null,
   "metadata": {
    "tags": [],
    "trusted": true
   },
   "outputs": [],
   "source": [
    "len(sample_qc_annot_df.loc[sample_qc_annot_df.out_hetz_missing==True])"
   ]
  },
  {
   "cell_type": "code",
   "execution_count": null,
   "metadata": {},
   "outputs": [],
   "source": []
  },
  {
   "cell_type": "markdown",
   "metadata": {},
   "source": [
    "# Less than 90% exome variant call rate"
   ]
  },
  {
   "cell_type": "code",
   "execution_count": null,
   "metadata": {
    "tags": [],
    "trusted": true
   },
   "outputs": [],
   "source": [
    "sample_qc_annot_df[\"low_call_rate\"] = sample_qc_annot_df.call_rate<0.9"
   ]
  },
  {
   "cell_type": "code",
   "execution_count": null,
   "metadata": {
    "tags": [],
    "trusted": true
   },
   "outputs": [],
   "source": [
    "len(sample_qc_annot_df.loc[sample_qc_annot_df.low_call_rate==True])"
   ]
  },
  {
   "cell_type": "code",
   "execution_count": null,
   "metadata": {},
   "outputs": [],
   "source": []
  },
  {
   "cell_type": "markdown",
   "metadata": {},
   "source": [
    "# Deviation from metrics"
   ]
  },
  {
   "cell_type": "code",
   "execution_count": null,
   "metadata": {
    "tags": [],
    "trusted": true
   },
   "outputs": [],
   "source": [
    "def get_metric_stats(ser):\n",
    "    mean,sd = ser.mean(), ser.std()\n",
    "    return mean, sd\n",
    "\n",
    "def get_deviation(ser):\n",
    "    mean, sd = get_metric_stats(ser)\n",
    "    return ser.abs()>(mean+8*sd)\n"
   ]
  },
  {
   "cell_type": "code",
   "execution_count": null,
   "metadata": {
    "tags": [],
    "trusted": true
   },
   "outputs": [],
   "source": [
    "metrics = [\"r_ti_tv_residual\", \"r_het_hom_var_residual\", \"r_insertion_deletion_residual\", \"n_singleton_residual\", \"r_snv_indel_residual\"]\n",
    "for metric in metrics:\n",
    "    print(metric)\n",
    "    sample_qc_annot_df[f\"{metric}_outlier\"] = get_deviation(sample_qc_annot_df[metric])\n",
    "    print(len(sample_qc_annot_df.loc[sample_qc_annot_df[f\"{metric}_outlier\"]==True]))"
   ]
  },
  {
   "cell_type": "code",
   "execution_count": null,
   "metadata": {},
   "outputs": [],
   "source": []
  },
  {
   "cell_type": "markdown",
   "metadata": {},
   "source": [
    "# Flag samples using the filters"
   ]
  },
  {
   "cell_type": "code",
   "execution_count": null,
   "metadata": {
    "tags": [],
    "trusted": true
   },
   "outputs": [],
   "source": [
    "filter_columns = [\n",
    "    \"missing_array\", \"duplicate\", \"sex_discordance\", \"array_discordance\", \n",
    "    \"sex_chromosome_aneuploidy\", \"out_hetz_missing\", \"low_call_rate\", \n",
    "    \"r_ti_tv_residual_outlier\", \"r_het_hom_var_residual_outlier\", \"r_insertion_deletion_residual_outlier\", \n",
    "    \"n_singleton_residual_outlier\", \"r_snv_indel_residual_outlier\"\n",
    "]"
   ]
  },
  {
   "cell_type": "code",
   "execution_count": null,
   "metadata": {},
   "outputs": [],
   "source": []
  },
  {
   "cell_type": "code",
   "execution_count": null,
   "metadata": {
    "tags": [],
    "trusted": true
   },
   "outputs": [],
   "source": [
    "sample_qc_annot_df['filters'] = sample_qc_annot_df.apply(lambda row: \"|\".join({col for col in filter_columns if row[col]}), axis=1)\n"
   ]
  },
  {
   "cell_type": "code",
   "execution_count": null,
   "metadata": {},
   "outputs": [],
   "source": []
  },
  {
   "cell_type": "markdown",
   "metadata": {},
   "source": [
    "# Upload to pandas"
   ]
  },
  {
   "cell_type": "code",
   "execution_count": null,
   "metadata": {
    "tags": [],
    "trusted": true
   },
   "outputs": [],
   "source": [
    "flagged_samples_df = sample_qc_annot_df.loc[:, [\"s\", \"filters\"]+filter_columns]"
   ]
  },
  {
   "cell_type": "code",
   "execution_count": null,
   "metadata": {
    "tags": [],
    "trusted": true
   },
   "outputs": [],
   "source": [
    "def upload_file_to_project(filename, proj_dir):\n",
    "    dxpy.upload_local_file(filename, folder=proj_dir, parents=True)\n",
    "    print(f\"*********{filename} uploaded!!*********\")\n",
    "    return\n"
   ]
  },
  {
   "cell_type": "code",
   "execution_count": null,
   "metadata": {
    "tags": [],
    "trusted": true
   },
   "outputs": [],
   "source": [
    "proj_dir = f\"/notebooks/wes/sample_qc/data/\"\n",
    "filename = \"flagged_samples.tsv\"\n",
    "flagged_samples_df.to_csv(filename, index=False, sep=\"\\t\")\n",
    "upload_file_to_project(filename, proj_dir)"
   ]
  },
  {
   "cell_type": "code",
   "execution_count": null,
   "metadata": {},
   "outputs": [],
   "source": []
  }
 ],
 "metadata": {
  "kernelspec": {
   "display_name": "Python 3 (ipykernel)",
   "language": "python",
   "name": "python3"
  },
  "language_info": {
   "codemirror_mode": {
    "name": "ipython",
    "version": 3
   },
   "file_extension": ".py",
   "mimetype": "text/x-python",
   "name": "python",
   "nbconvert_exporter": "python",
   "pygments_lexer": "ipython3",
   "version": "3.9.16"
  }
 },
 "nbformat": 4,
 "nbformat_minor": 4
}
