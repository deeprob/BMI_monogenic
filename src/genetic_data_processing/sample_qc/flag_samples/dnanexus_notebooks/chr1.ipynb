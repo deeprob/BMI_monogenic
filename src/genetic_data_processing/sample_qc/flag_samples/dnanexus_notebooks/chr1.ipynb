{
 "cells": [
  {
   "cell_type": "code",
   "execution_count": null,
   "metadata": {
    "tags": [],
    "trusted": true
   },
   "outputs": [],
   "source": [
    "from pyspark.sql import SparkSession\n",
    "import hail as hl\n",
    "import os\n",
    "import time\n",
    "import dxpy\n",
    "import logging\n",
    "import pandas as pd\n",
    "import re\n",
    "\n",
    "\n",
    "# Had to set the configuration to navigate RDD partition error\n",
    "# Build spark\n",
    "builder = (\n",
    "    SparkSession\n",
    "    .builder\n",
    "    .appName(\"Autosome QC\")  # Set a meaningful application name\n",
    "    .config(\"spark.driver.memory\", \"96g\")  # Set driver memory (e.g., 8 GB)\n",
    "    .config(\"spark.executor.memory\", \"108g\")  # Set executor memory (e.g., 16 GB)\n",
    "    .config(\"spark.executor.cores\", \"30\")  # Optional: Set number of cores per executor \n",
    "    .enableHiveSupport()\n",
    ")\n",
    "spark = builder.getOrCreate()\n",
    "\n",
    "hl.init(sc=spark.sparkContext, idempotent=True)\n"
   ]
  },
  {
   "cell_type": "code",
   "execution_count": null,
   "metadata": {
    "tags": [],
    "trusted": true
   },
   "outputs": [],
   "source": [
    "chr_num = 1"
   ]
  },
  {
   "cell_type": "code",
   "execution_count": null,
   "metadata": {
    "tags": [],
    "trusted": true
   },
   "outputs": [],
   "source": [
    "def repartition_chrm_mt(chr_num):\n",
    "    db_name = f\"exomes\"\n",
    "    # Find database ID of newly created database using dxpy method\n",
    "    db_uri = dxpy.find_one_data_object(name=f\"{db_name}\".lower(), classname=\"database\")['id']\n",
    "    mt_name = f\"chr{chr_num}_initial_variant_qc.mt\"\n",
    "    print(mt_name)\n",
    "    url = f\"dnax://{db_uri}/{mt_name}\" # Note: the dnax url must follow this format to properly save MT to DNAX\n",
    "    mt = hl.read_matrix_table(url)\n",
    "    num_partitions = int(0.2*mt.n_partitions())\n",
    "    mt = mt.naive_coalesce(num_partitions)\n",
    "    url = f\"dnax://{db_uri}/chr{chr_num}_vqc.mt\"\n",
    "    mt.write(url, overwrite=True)\n",
    "    return"
   ]
  },
  {
   "cell_type": "code",
   "execution_count": null,
   "metadata": {
    "tags": [],
    "trusted": true
   },
   "outputs": [],
   "source": [
    "repartition_chrm_mt(chr_num)"
   ]
  },
  {
   "cell_type": "code",
   "execution_count": null,
   "metadata": {},
   "outputs": [],
   "source": []
  }
 ],
 "metadata": {
  "kernelspec": {
   "display_name": "Python 3 (ipykernel)",
   "language": "python",
   "name": "python3"
  },
  "language_info": {
   "codemirror_mode": {
    "name": "ipython",
    "version": 3
   },
   "file_extension": ".py",
   "mimetype": "text/x-python",
   "name": "python",
   "nbconvert_exporter": "python",
   "pygments_lexer": "ipython3",
   "version": "3.9.16"
  }
 },
 "nbformat": 4,
 "nbformat_minor": 4
}
