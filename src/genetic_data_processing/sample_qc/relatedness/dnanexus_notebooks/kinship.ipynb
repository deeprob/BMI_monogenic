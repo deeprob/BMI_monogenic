{
 "cells": [
  {
   "cell_type": "code",
   "execution_count": null,
   "metadata": {
    "tags": [],
    "trusted": true
   },
   "outputs": [],
   "source": [
    "import pandas as pd\n",
    "import os\n",
    "import dxpy"
   ]
  },
  {
   "cell_type": "code",
   "execution_count": null,
   "metadata": {
    "tags": [],
    "trusted": true
   },
   "outputs": [],
   "source": [
    "def upload_file_to_project(filename, proj_dir):\n",
    "    dxpy.upload_local_file(filename, folder=proj_dir, parents=True)\n",
    "    print(f\"*********{filename} uploaded!!*********\")\n",
    "    return\n",
    "\n"
   ]
  },
  {
   "cell_type": "markdown",
   "metadata": {
    "tags": []
   },
   "source": [
    "# Divide the autosomes into 5 subsets to speed up KING inference\n",
    "\n",
    "Ref: --kinship --projection N"
   ]
  },
  {
   "cell_type": "code",
   "execution_count": null,
   "metadata": {
    "tags": [],
    "trusted": true
   },
   "outputs": [],
   "source": [
    "fam_file = \"/mnt/project/notebooks/wes/sample_qc/high_quality_variants/autosomes/autosome_hqc.fam\""
   ]
  },
  {
   "cell_type": "code",
   "execution_count": null,
   "metadata": {
    "tags": [],
    "trusted": true
   },
   "outputs": [],
   "source": [
    "fam_df = pd.read_csv(fam_file, sep=\"\\t\", header=None, usecols=[0,1])"
   ]
  },
  {
   "cell_type": "code",
   "execution_count": null,
   "metadata": {
    "tags": [],
    "trusted": true
   },
   "outputs": [],
   "source": [
    "five_sets = len(fam_df)//5"
   ]
  },
  {
   "cell_type": "code",
   "execution_count": null,
   "metadata": {
    "tags": [],
    "trusted": true
   },
   "outputs": [],
   "source": [
    "fam_df[2] = 1\n",
    "for i in range(2,6):\n",
    "    start = five_sets*(i-1)\n",
    "    end = five_sets*i\n",
    "    fam_df.iloc[start:end, 2] = i"
   ]
  },
  {
   "cell_type": "code",
   "execution_count": null,
   "metadata": {
    "tags": [],
    "trusted": true
   },
   "outputs": [],
   "source": [
    "proj_dir = f\"/notebooks/wes/sample_qc/relatedness/\"\n",
    "filename = \"subsets.txt\"\n",
    "fam_df.to_csv(filename, index=False, sep=\"\\t\", header=None)\n",
    "upload_file_to_project(filename, proj_dir)"
   ]
  },
  {
   "cell_type": "code",
   "execution_count": null,
   "metadata": {
    "tags": [],
    "trusted": true
   },
   "outputs": [],
   "source": [
    "print(five_sets)"
   ]
  },
  {
   "cell_type": "markdown",
   "metadata": {
    "jp-MarkdownHeadingCollapsed": true,
    "tags": []
   },
   "source": [
    "# Create subsets of plink files based on the 5 defined subsets\n",
    "\n",
    "**This step is run using swiss army knife**"
   ]
  },
  {
   "cell_type": "markdown",
   "metadata": {
    "jp-MarkdownHeadingCollapsed": true,
    "tags": []
   },
   "source": [
    "# Get King estimates on the five subsets \n",
    "\n",
    "**This step is run using swiss army knife**"
   ]
  },
  {
   "cell_type": "markdown",
   "metadata": {
    "tags": []
   },
   "source": [
    "# Read and compile King produced files\n",
    "\n",
    "Estimated kinship coefficient range and their corresponding relationship\n",
    "\n",
    " - \\>0.354: duplicate/MZ twin\n",
    " - 0.177 to 0.354: 1st-degree\n",
    " - 0.0884 to 0.177: 2nd-degree\n",
    " - 0.0442 to 0.0884: 3rd-degree \n",
    "\n",
    "\n",
    "Ref: https://www.kingrelatedness.com/manual.shtml#WITHIN"
   ]
  },
  {
   "cell_type": "code",
   "execution_count": null,
   "metadata": {
    "tags": [],
    "trusted": true
   },
   "outputs": [],
   "source": [
    "# previously ran second degree file\n",
    "second_degree_filename = \"/mnt/project/notebooks/wes/sample_qc/relatedness/king.kin0\"\n",
    "second_degree_df = pd.read_csv(second_degree_filename, sep=\"\\t\")\n"
   ]
  },
  {
   "cell_type": "code",
   "execution_count": null,
   "metadata": {
    "tags": [],
    "trusted": true
   },
   "outputs": [],
   "source": [
    "# third degree file with subsets\n",
    "third_degree_same_set_filenames = [f\"/mnt/project/notebooks/wes/sample_qc/relatedness/subset{i}.kin0\" for i in range(1, 6)]\n",
    "third_degree_diff_set_filenames = [f\"/mnt/project/notebooks/wes/sample_qc/relatedness/subset{i}{j}.kin0\" for i in range(1, 6) for j in range(i+1, 6)]\n",
    "third_degree_df = pd.concat([pd.read_csv(fn, sep=\"\\t\") for fn in third_degree_same_set_filenames+third_degree_diff_set_filenames])\n",
    "\n"
   ]
  },
  {
   "cell_type": "code",
   "execution_count": null,
   "metadata": {
    "tags": [],
    "trusted": true
   },
   "outputs": [],
   "source": [
    "# comparing the two files for second degree calls\n",
    "sdk_set = set(second_degree_df.loc[:, [\"ID1\", \"ID2\"]].values.flatten())\n",
    "tdk_set = set(third_degree_df.loc[third_degree_df.Kinship>=0.0884, [\"ID1\", \"ID2\"]].values.flatten())\n",
    "tdk_new = tdk_set.difference(sdk_set)\n",
    "third_degree_df.loc[(third_degree_df.ID1.isin(tdk_new)|third_degree_df.ID2.isin(tdk_new))&(third_degree_df.Kinship>=0.0884)]\n"
   ]
  },
  {
   "cell_type": "markdown",
   "metadata": {},
   "source": [
    "*Six new comparisons found all with Kinship=0.0884, which are missed during initial second degree call*"
   ]
  },
  {
   "cell_type": "markdown",
   "metadata": {},
   "source": [
    "# Save individuals who are related based on autosomes"
   ]
  },
  {
   "cell_type": "code",
   "execution_count": null,
   "metadata": {
    "tags": [],
    "trusted": true
   },
   "outputs": [],
   "source": [
    "all_ind_w_third_degree_relatives = list(set(third_degree_df.loc[:, [\"ID1\", \"ID2\"]].values.flatten()))\n",
    "duplicated_ind = set(third_degree_df.loc[third_degree_df.Kinship>0.354, [\"ID1\", \"ID2\"]].values.flatten())\n"
   ]
  },
  {
   "cell_type": "code",
   "execution_count": null,
   "metadata": {
    "tags": [],
    "trusted": true
   },
   "outputs": [],
   "source": [
    "related_df = pd.DataFrame({\n",
    "    \"s\": all_ind_w_third_degree_relatives, \n",
    "    \"third_degree\": [True for _ in range(len(all_ind_w_third_degree_relatives))]}\n",
    ")\n"
   ]
  },
  {
   "cell_type": "code",
   "execution_count": null,
   "metadata": {
    "tags": [],
    "trusted": true
   },
   "outputs": [],
   "source": [
    "related_df[\"duplicate_ind\"] = related_df.s.isin(duplicated_ind)"
   ]
  },
  {
   "cell_type": "code",
   "execution_count": null,
   "metadata": {
    "tags": [],
    "trusted": true
   },
   "outputs": [],
   "source": [
    "related_df.duplicate_ind.value_counts()"
   ]
  },
  {
   "cell_type": "code",
   "execution_count": null,
   "metadata": {},
   "outputs": [],
   "source": []
  },
  {
   "cell_type": "markdown",
   "metadata": {},
   "source": [
    "# Verify with array generated file"
   ]
  },
  {
   "cell_type": "code",
   "execution_count": null,
   "metadata": {
    "tags": [],
    "trusted": true
   },
   "outputs": [],
   "source": [
    "geno_sample_qc_file = \"/mnt/project/fields/data/sample_qc/sample_qc_info.tsv\"\n",
    "geno_sample_qc_df = pd.read_csv(geno_sample_qc_file, sep=\"\\t\")\n"
   ]
  },
  {
   "cell_type": "code",
   "execution_count": null,
   "metadata": {
    "tags": [],
    "trusted": true
   },
   "outputs": [],
   "source": [
    "geno_sample_qc_df.genetic_kinship_to_other_participants.value_counts()"
   ]
  },
  {
   "cell_type": "code",
   "execution_count": null,
   "metadata": {
    "tags": [],
    "trusted": true
   },
   "outputs": [],
   "source": [
    "array_relatives = set(geno_sample_qc_df.loc[\n",
    "    (geno_sample_qc_df.genetic_kinship_to_other_participants!=\"No kinship found\")&\n",
    "    (geno_sample_qc_df.genetic_kinship_to_other_participants.notna()),\n",
    "    \"sample_names\"\n",
    "].astype(str))\n"
   ]
  },
  {
   "cell_type": "code",
   "execution_count": null,
   "metadata": {
    "tags": [],
    "trusted": true
   },
   "outputs": [],
   "source": [
    "exome_relatives = set(related_df.s.astype(str))\n"
   ]
  },
  {
   "cell_type": "code",
   "execution_count": null,
   "metadata": {
    "tags": [],
    "trusted": true
   },
   "outputs": [],
   "source": [
    "all_samples = array_relatives.union(exome_relatives)\n"
   ]
  },
  {
   "cell_type": "code",
   "execution_count": null,
   "metadata": {
    "tags": [],
    "trusted": true
   },
   "outputs": [],
   "source": [
    "# Create a DataFrame categorizing membership in both sets\n",
    "data = {\n",
    "    \"sample_id\": list(all_samples),\n",
    "    \"exome_relative\": [1 if sample in exome_relatives else 0 for sample in all_samples],\n",
    "    \"array_relative\": [1 if sample in array_relatives else 0 for sample in all_samples],\n",
    "}\n",
    "\n",
    "df = pd.DataFrame(data)\n",
    "\n",
    "# Create the contingency table\n",
    "contingency_table = pd.crosstab(df[\"exome_relative\"], df[\"array_relative\"])\n"
   ]
  },
  {
   "cell_type": "code",
   "execution_count": null,
   "metadata": {
    "tags": [],
    "trusted": true
   },
   "outputs": [],
   "source": [
    "contingency_table\n"
   ]
  },
  {
   "cell_type": "code",
   "execution_count": null,
   "metadata": {
    "tags": [],
    "trusted": true
   },
   "outputs": [],
   "source": [
    "len(exome_relatives.intersection(array_relatives))/len(exome_relatives)\n"
   ]
  },
  {
   "cell_type": "markdown",
   "metadata": {},
   "source": [
    "*94% concordance between array and exome calls*"
   ]
  },
  {
   "cell_type": "markdown",
   "metadata": {},
   "source": [
    "# Save file in tsv format"
   ]
  },
  {
   "cell_type": "code",
   "execution_count": null,
   "metadata": {
    "tags": [],
    "trusted": true
   },
   "outputs": [],
   "source": [
    "proj_dir = f\"/notebooks/wes/sample_qc/relatedness/\"\n",
    "filename = \"related_exome.tsv\"\n",
    "related_df.to_csv(filename, index=False, sep=\"\\t\")\n",
    "upload_file_to_project(filename, proj_dir)\n"
   ]
  },
  {
   "cell_type": "code",
   "execution_count": null,
   "metadata": {},
   "outputs": [],
   "source": []
  }
 ],
 "metadata": {
  "kernelspec": {
   "display_name": "Python 3 (ipykernel)",
   "language": "python",
   "name": "python3"
  },
  "language_info": {
   "codemirror_mode": {
    "name": "ipython",
    "version": 3
   },
   "file_extension": ".py",
   "mimetype": "text/x-python",
   "name": "python",
   "nbconvert_exporter": "python",
   "pygments_lexer": "ipython3",
   "version": "3.9.16"
  }
 },
 "nbformat": 4,
 "nbformat_minor": 4
}
