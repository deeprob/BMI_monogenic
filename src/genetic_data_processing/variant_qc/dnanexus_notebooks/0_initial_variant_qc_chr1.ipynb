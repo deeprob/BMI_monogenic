{
 "cells": [
  {
   "cell_type": "code",
   "execution_count": null,
   "metadata": {
    "tags": [],
    "trusted": true
   },
   "outputs": [],
   "source": [
    "# !pip install gnomad"
   ]
  },
  {
   "cell_type": "code",
   "execution_count": null,
   "metadata": {
    "tags": [],
    "trusted": true
   },
   "outputs": [],
   "source": [
    "from pyspark.sql import SparkSession\n",
    "import hail as hl\n",
    "import os\n",
    "import time\n",
    "import dxpy\n",
    "import logging\n",
    "import pandas as pd\n",
    "import re\n",
    "\n",
    "\n",
    "# Had to set the configuration to navigate RDD partition error\n",
    "# Build spark\n",
    "builder = (\n",
    "    SparkSession\n",
    "    .builder\n",
    "    .appName(\"HailApplication\")  # Set a meaningful application name\n",
    "    .config(\"spark.driver.memory\", \"16g\")  # Set driver memory (e.g., 8 GB)\n",
    "    .config(\"spark.executor.memory\", \"108g\")  # Set executor memory (e.g., 16 GB)\n",
    "    .config(\"spark.executor.cores\", \"30\")  # Optional: Set number of cores per executor \n",
    "    .enableHiveSupport()\n",
    ")\n",
    "spark = builder.getOrCreate()\n",
    "\n",
    "hl.init(sc=spark.sparkContext, idempotent=True)\n"
   ]
  },
  {
   "cell_type": "code",
   "execution_count": null,
   "metadata": {
    "tags": [],
    "trusted": true
   },
   "outputs": [],
   "source": [
    "from gnomad.utils.filtering import filter_to_adj\n"
   ]
  },
  {
   "cell_type": "markdown",
   "metadata": {},
   "source": [
    "# Create database to store hail format files"
   ]
  },
  {
   "cell_type": "code",
   "execution_count": null,
   "metadata": {
    "tags": [],
    "trusted": true
   },
   "outputs": [],
   "source": [
    "# Create database in DNAX\n",
    "db_name = f\"exomes\"\n",
    "stmt = f\"CREATE DATABASE IF NOT EXISTS {db_name} LOCATION 'dnax://'\"\n",
    "print(stmt)\n",
    "spark.sql(stmt).show()\n"
   ]
  },
  {
   "cell_type": "markdown",
   "metadata": {},
   "source": [
    "# Import pvcf files for a given chromosome"
   ]
  },
  {
   "cell_type": "code",
   "execution_count": null,
   "metadata": {
    "tags": [],
    "trusted": true
   },
   "outputs": [],
   "source": [
    "chr_num = \"1\""
   ]
  },
  {
   "cell_type": "code",
   "execution_count": null,
   "metadata": {
    "tags": [],
    "trusted": true
   },
   "outputs": [],
   "source": [
    "def import_and_save_vcf(chr_num, db_name):\n",
    "    vcf_dir = \"/mnt/project/Bulk/Exome sequences/Population level exome OQFE variants, pVCF format - final release/\"\n",
    "    vcf_files = sorted([\"file://\" + os.path.join(vcf_dir, fp) for fp in os.listdir(vcf_dir) if (f\"_c{chr_num}_\" in fp and fp.endswith(\"vcf.gz\"))])\n",
    "    mt = hl.import_vcf(\n",
    "        vcf_files, force_bgz=True, reference_genome=\"GRCh38\", array_elements_required=False\n",
    "    )\n",
    "    # split multiallelic sites\n",
    "    mt = hl.split_multi_hts(mt, permit_shuffle=True)\n",
    "    # Find database ID of newly created database using dxpy method\n",
    "    db_uri = dxpy.find_one_data_object(name=f\"{db_name}\".lower(), classname=\"database\")['id']\n",
    "    # save matrix table\n",
    "    mt_name = f\"chr{chr_num}_unfiltered.mt\"\n",
    "    print(mt_name)\n",
    "    url = f\"dnax://{db_uri}/{mt_name}\" # Note: the dnax url must follow this format to properly save MT to DNAX\n",
    "    mt.write(url, overwrite=True) # Note: output should describe size of MT (i.e. number of rows, columns, partitions)\n",
    "    return url"
   ]
  },
  {
   "cell_type": "code",
   "execution_count": null,
   "metadata": {
    "tags": [],
    "trusted": true
   },
   "outputs": [],
   "source": [
    "mt_url = import_and_save_vcf(chr_num, db_name)"
   ]
  },
  {
   "cell_type": "code",
   "execution_count": null,
   "metadata": {
    "tags": [],
    "trusted": true
   },
   "outputs": [],
   "source": [
    "mt = hl.read_matrix_table(mt_url)"
   ]
  },
  {
   "cell_type": "markdown",
   "metadata": {},
   "source": [
    "# Perform initial qc"
   ]
  },
  {
   "cell_type": "code",
   "execution_count": null,
   "metadata": {
    "tags": [],
    "trusted": true
   },
   "outputs": [],
   "source": [
    "def initial_variant_qc(\n",
    "    mt, db_name, min_call_rate=0.9, min_hardy_weinberg_threshold=1e-15,\n",
    "):\n",
    "    \n",
    "    # get gnomad suggested genotypes only\n",
    "    qc_mt = filter_to_adj(mt)\n",
    "    # annotate low complexity regions\n",
    "    db = hl.experimental.DB(region='us', cloud='aws')\n",
    "    qc_mt = db.annotate_rows_db(qc_mt, 'Ensembl_homo_sapiens_low_complexity_regions')\n",
    "    # perform variant qc\n",
    "    qc_mt = hl.variant_qc(qc_mt)\n",
    "    # filter low complexity regions and those which fail minimal qc\n",
    "    qc_mt = qc_mt.filter_rows(\n",
    "        (qc_mt.Ensembl_homo_sapiens_low_complexity_regions==False)&\n",
    "        (qc_mt.variant_qc.call_rate>min_call_rate)&\n",
    "        (qc_mt.variant_qc.p_value_hwe>min_hardy_weinberg_threshold)&\n",
    "        (qc_mt.variant_qc.AC[1]>0)\n",
    "    )\n",
    "    # Find database ID of newly created database using dxpy method\n",
    "    db_uri = dxpy.find_one_data_object(name=f\"{db_name}\".lower(), classname=\"database\")['id']\n",
    "    mt_name = f\"chr{chr_num}_initial_variant_qc.mt\"\n",
    "    print(mt_name)\n",
    "    url = f\"dnax://{db_uri}/{mt_name}\" # Note: the dnax url must follow this format to properly save MT to DNAX\n",
    "    qc_mt.write(url, overwrite=True) # Note: output should describe size of MT (i.e. number of rows, columns, partitions)\n",
    "    return url\n"
   ]
  },
  {
   "cell_type": "code",
   "execution_count": null,
   "metadata": {
    "tags": [],
    "trusted": true
   },
   "outputs": [],
   "source": [
    "mt_url = initial_variant_qc(mt, db_name)"
   ]
  },
  {
   "cell_type": "code",
   "execution_count": null,
   "metadata": {},
   "outputs": [],
   "source": [
    "mt = hl.read_matrix_table(mt_url)"
   ]
  },
  {
   "cell_type": "code",
   "execution_count": null,
   "metadata": {},
   "outputs": [],
   "source": []
  }
 ],
 "metadata": {
  "kernelspec": {
   "display_name": "Python 3 (ipykernel)",
   "language": "python",
   "name": "python3"
  },
  "language_info": {
   "codemirror_mode": {
    "name": "ipython",
    "version": 3
   },
   "file_extension": ".py",
   "mimetype": "text/x-python",
   "name": "python",
   "nbconvert_exporter": "python",
   "pygments_lexer": "ipython3",
   "version": "3.9.16"
  }
 },
 "nbformat": 4,
 "nbformat_minor": 4
}
